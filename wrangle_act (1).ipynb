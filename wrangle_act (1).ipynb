{
 "cells": [
  {
   "cell_type": "code",
   "execution_count": 3,
   "metadata": {},
   "outputs": [],
   "source": [
    "import pandas as pd\n",
    "import requests\n",
    "import os\n",
    "import json\n",
    "import re\n",
    "import numpy as np\n",
    "%matplotlib inline\n",
    "import matplotlib.ticker as ticker\n",
    "import datetime\n",
    "import matplotlib.pyplot as plt \n",
    "import seaborn as sns"
   ]
  },
  {
   "cell_type": "markdown",
   "metadata": {},
   "source": [
    "# Gather Data \n"
   ]
  },
  {
   "cell_type": "markdown",
   "metadata": {},
   "source": [
    "### 1-The WeRateDogs Twitter archive csv file : twitter-archive-enhanced .csv    (archive_df)\n"
   ]
  },
  {
   "cell_type": "code",
   "execution_count": 6,
   "metadata": {},
   "outputs": [],
   "source": [
    "archive_df=pd.read_csv('twitter-archive-enhanced .csv')"
   ]
  },
  {
   "cell_type": "markdown",
   "metadata": {},
   "source": [
    "### 2-The tweet image predictions   (image_predictions_df)"
   ]
  },
  {
   "cell_type": "code",
   "execution_count": 5,
   "metadata": {},
   "outputs": [],
   "source": [
    "url='https://d17h27t6h515a5.cloudfront.net/topher/2017/August/599fd2ad_image-predictions/image-predictions.tsv'\n",
    "response=requests.get(url)\n",
    "file_name='image-predictions.tsv'\n",
    "if not os.path.isfile(file_name) :\n",
    "    with open(file_name,mode='wb') as file :\n",
    "        file.write(response.content)\n",
    "image_predictions_df=pd.read_csv(file_name,sep='\\t')      \n"
   ]
  },
  {
   "cell_type": "markdown",
   "metadata": {},
   "source": [
    "### 3-Twitter's API for additional data  (api_df)"
   ]
  },
  {
   "cell_type": "code",
   "execution_count": 7,
   "metadata": {},
   "outputs": [
    {
     "ename": "NameError",
     "evalue": "name 'df_1' is not defined",
     "output_type": "error",
     "traceback": [
      "\u001b[0;31m---------------------------------------------------------------------------\u001b[0m",
      "\u001b[0;31mNameError\u001b[0m                                 Traceback (most recent call last)",
      "\u001b[0;32m<ipython-input-7-8723d8f2c4bc>\u001b[0m in \u001b[0;36m<module>\u001b[0;34m()\u001b[0m\n\u001b[1;32m     22\u001b[0m \u001b[0;31m# Twitter API code was sent to this student from a Udacity instructor\u001b[0m\u001b[0;34m\u001b[0m\u001b[0;34m\u001b[0m\u001b[0m\n\u001b[1;32m     23\u001b[0m \u001b[0;31m# Tweet IDs for which to gather additional data via Twitter's API\u001b[0m\u001b[0;34m\u001b[0m\u001b[0;34m\u001b[0m\u001b[0m\n\u001b[0;32m---> 24\u001b[0;31m \u001b[0mtweet_ids\u001b[0m \u001b[0;34m=\u001b[0m \u001b[0mdf_1\u001b[0m\u001b[0;34m.\u001b[0m\u001b[0mtweet_id\u001b[0m\u001b[0;34m.\u001b[0m\u001b[0mvalues\u001b[0m\u001b[0;34m\u001b[0m\u001b[0m\n\u001b[0m\u001b[1;32m     25\u001b[0m \u001b[0mlen\u001b[0m\u001b[0;34m(\u001b[0m\u001b[0mtweet_ids\u001b[0m\u001b[0;34m)\u001b[0m\u001b[0;34m\u001b[0m\u001b[0m\n\u001b[1;32m     26\u001b[0m \u001b[0;34m\u001b[0m\u001b[0m\n",
      "\u001b[0;31mNameError\u001b[0m: name 'df_1' is not defined"
     ]
    }
   ],
   "source": [
    "import tweepy\n",
    "from tweepy import OAuthHandler\n",
    "import json\n",
    "from timeit import default_timer as timer\n",
    "\n",
    "# Query Twitter API for each tweet in the Twitter archive and save JSON in a text file\n",
    "# These are hidden to comply with Twitter's API terms and conditions\n",
    "consumer_key = 'HIDDEN'\n",
    "consumer_secret = 'HIDDEN'\n",
    "access_token = 'HIDDEN'\n",
    "access_secret = 'HIDDEN'\n",
    "\n",
    "auth = OAuthHandler(consumer_key, consumer_secret)\n",
    "auth.set_access_token(access_token, access_secret)\n",
    "\n",
    "api = tweepy.API(auth, wait_on_rate_limit=True)\n",
    "\n",
    "# NOTE TO STUDENT WITH MOBILE VERIFICATION ISSUES:\n",
    "# df_1 is a DataFrame with the twitter_archive_enhanced.csv file. You may have to\n",
    "# change line 17 to match the name of your DataFrame with twitter_archive_enhanced.csv\n",
    "# NOTE TO REVIEWER: this student had mobile verification issues so the following\n",
    "# Twitter API code was sent to this student from a Udacity instructor\n",
    "# Tweet IDs for which to gather additional data via Twitter's API\n",
    "tweet_ids = df_1.tweet_id.values\n",
    "len(tweet_ids)\n",
    "\n",
    "# Query Twitter's API for JSON data for each tweet ID in the Twitter archive\n",
    "count = 0\n",
    "fails_dict = {}\n",
    "start = timer()\n",
    "# Save each tweet's returned JSON as a new line in a .txt file\n",
    "with open('tweet_json.txt', 'w') as outfile:\n",
    "    # This loop will likely take 20-30 minutes to run because of Twitter's rate limit\n",
    "    for tweet_id in tweet_ids:\n",
    "        count += 1\n",
    "        print(str(count) + \": \" + str(tweet_id))\n",
    "        try:\n",
    "            tweet = api.get_status(tweet_id, tweet_mode='extended')\n",
    "            print(\"Success\")\n",
    "            json.dump(tweet._json, outfile)\n",
    "            outfile.write('\\n')\n",
    "        except tweepy.TweepError as e:\n",
    "            print(\"Fail\")\n",
    "            fails_dict[tweet_id] = e\n",
    "            pass\n",
    "end = timer()\n",
    "print(end - start)\n",
    "print(fails_dict)"
   ]
  },
  {
   "cell_type": "code",
   "execution_count": 8,
   "metadata": {},
   "outputs": [],
   "source": [
    "#read from json file line by lue\n",
    "df_list=[]\n",
    "with open ('tweet-json.txt','r') as file:\n",
    "    for line in file:\n",
    "        tweet=json.loads(line)\n",
    "        tweet_id=tweet['id']\n",
    "        retweet_count=tweet['retweet_count']\n",
    "        fav_count=tweet['favorite_count']\n",
    "        user_count=tweet['user']['followers_count']\n",
    "        df_list.append({'tweet_id': tweet_id,\n",
    "                        'retweet_count':retweet_count,\n",
    "                        'fav_count':fav_count,\n",
    "                        'user_count':user_count})\n",
    "                      \n",
    "api_df=pd.DataFrame(df_list)   \n"
   ]
  },
  {
   "cell_type": "markdown",
   "metadata": {},
   "source": [
    "# Assess Data"
   ]
  },
  {
   "cell_type": "code",
   "execution_count": 9,
   "metadata": {},
   "outputs": [
    {
     "data": {
      "text/html": [
       "<div>\n",
       "<style scoped>\n",
       "    .dataframe tbody tr th:only-of-type {\n",
       "        vertical-align: middle;\n",
       "    }\n",
       "\n",
       "    .dataframe tbody tr th {\n",
       "        vertical-align: top;\n",
       "    }\n",
       "\n",
       "    .dataframe thead th {\n",
       "        text-align: right;\n",
       "    }\n",
       "</style>\n",
       "<table border=\"1\" class=\"dataframe\">\n",
       "  <thead>\n",
       "    <tr style=\"text-align: right;\">\n",
       "      <th></th>\n",
       "      <th>tweet_id</th>\n",
       "      <th>in_reply_to_status_id</th>\n",
       "      <th>in_reply_to_user_id</th>\n",
       "      <th>timestamp</th>\n",
       "      <th>source</th>\n",
       "      <th>text</th>\n",
       "      <th>retweeted_status_id</th>\n",
       "      <th>retweeted_status_user_id</th>\n",
       "      <th>retweeted_status_timestamp</th>\n",
       "      <th>expanded_urls</th>\n",
       "      <th>rating_numerator</th>\n",
       "      <th>rating_denominator</th>\n",
       "      <th>name</th>\n",
       "      <th>doggo</th>\n",
       "      <th>floofer</th>\n",
       "      <th>pupper</th>\n",
       "      <th>puppo</th>\n",
       "    </tr>\n",
       "  </thead>\n",
       "  <tbody>\n",
       "    <tr>\n",
       "      <th>1750</th>\n",
       "      <td>679001094530465792</td>\n",
       "      <td>NaN</td>\n",
       "      <td>NaN</td>\n",
       "      <td>2015-12-21 18:10:50 +0000</td>\n",
       "      <td>&lt;a href=\"http://vine.co\" rel=\"nofollow\"&gt;Vine -...</td>\n",
       "      <td>This is Rascal. He's paddling an imaginary can...</td>\n",
       "      <td>NaN</td>\n",
       "      <td>NaN</td>\n",
       "      <td>NaN</td>\n",
       "      <td>https://vine.co/v/iKIwAzEatd6</td>\n",
       "      <td>11</td>\n",
       "      <td>10</td>\n",
       "      <td>Rascal</td>\n",
       "      <td>None</td>\n",
       "      <td>None</td>\n",
       "      <td>None</td>\n",
       "      <td>None</td>\n",
       "    </tr>\n",
       "    <tr>\n",
       "      <th>714</th>\n",
       "      <td>784057939640352768</td>\n",
       "      <td>NaN</td>\n",
       "      <td>NaN</td>\n",
       "      <td>2016-10-06 15:49:14 +0000</td>\n",
       "      <td>&lt;a href=\"http://vine.co\" rel=\"nofollow\"&gt;Vine -...</td>\n",
       "      <td>This is Balto. He's very content. Legendary to...</td>\n",
       "      <td>NaN</td>\n",
       "      <td>NaN</td>\n",
       "      <td>NaN</td>\n",
       "      <td>https://vine.co/v/5gKxeUpuKEr</td>\n",
       "      <td>12</td>\n",
       "      <td>10</td>\n",
       "      <td>Balto</td>\n",
       "      <td>None</td>\n",
       "      <td>None</td>\n",
       "      <td>None</td>\n",
       "      <td>None</td>\n",
       "    </tr>\n",
       "    <tr>\n",
       "      <th>2292</th>\n",
       "      <td>667160273090932737</td>\n",
       "      <td>NaN</td>\n",
       "      <td>NaN</td>\n",
       "      <td>2015-11-19 01:59:39 +0000</td>\n",
       "      <td>&lt;a href=\"http://twitter.com/download/iphone\" r...</td>\n",
       "      <td>This is Bradlay. He is a Ronaldinho Matsuyama ...</td>\n",
       "      <td>NaN</td>\n",
       "      <td>NaN</td>\n",
       "      <td>NaN</td>\n",
       "      <td>https://twitter.com/dog_rates/status/667160273...</td>\n",
       "      <td>11</td>\n",
       "      <td>10</td>\n",
       "      <td>Bradlay</td>\n",
       "      <td>None</td>\n",
       "      <td>None</td>\n",
       "      <td>None</td>\n",
       "      <td>None</td>\n",
       "    </tr>\n",
       "  </tbody>\n",
       "</table>\n",
       "</div>"
      ],
      "text/plain": [
       "                tweet_id  in_reply_to_status_id  in_reply_to_user_id  \\\n",
       "1750  679001094530465792                    NaN                  NaN   \n",
       "714   784057939640352768                    NaN                  NaN   \n",
       "2292  667160273090932737                    NaN                  NaN   \n",
       "\n",
       "                      timestamp  \\\n",
       "1750  2015-12-21 18:10:50 +0000   \n",
       "714   2016-10-06 15:49:14 +0000   \n",
       "2292  2015-11-19 01:59:39 +0000   \n",
       "\n",
       "                                                 source  \\\n",
       "1750  <a href=\"http://vine.co\" rel=\"nofollow\">Vine -...   \n",
       "714   <a href=\"http://vine.co\" rel=\"nofollow\">Vine -...   \n",
       "2292  <a href=\"http://twitter.com/download/iphone\" r...   \n",
       "\n",
       "                                                   text  retweeted_status_id  \\\n",
       "1750  This is Rascal. He's paddling an imaginary can...                  NaN   \n",
       "714   This is Balto. He's very content. Legendary to...                  NaN   \n",
       "2292  This is Bradlay. He is a Ronaldinho Matsuyama ...                  NaN   \n",
       "\n",
       "      retweeted_status_user_id retweeted_status_timestamp  \\\n",
       "1750                       NaN                        NaN   \n",
       "714                        NaN                        NaN   \n",
       "2292                       NaN                        NaN   \n",
       "\n",
       "                                          expanded_urls  rating_numerator  \\\n",
       "1750                      https://vine.co/v/iKIwAzEatd6                11   \n",
       "714                       https://vine.co/v/5gKxeUpuKEr                12   \n",
       "2292  https://twitter.com/dog_rates/status/667160273...                11   \n",
       "\n",
       "      rating_denominator     name doggo floofer pupper puppo  \n",
       "1750                  10   Rascal  None    None   None  None  \n",
       "714                   10    Balto  None    None   None  None  \n",
       "2292                  10  Bradlay  None    None   None  None  "
      ]
     },
     "execution_count": 9,
     "metadata": {},
     "output_type": "execute_result"
    }
   ],
   "source": [
    "archive_df.sample(3)\n"
   ]
  },
  {
   "cell_type": "code",
   "execution_count": 10,
   "metadata": {
    "scrolled": true
   },
   "outputs": [
    {
     "data": {
      "text/html": [
       "<div>\n",
       "<style scoped>\n",
       "    .dataframe tbody tr th:only-of-type {\n",
       "        vertical-align: middle;\n",
       "    }\n",
       "\n",
       "    .dataframe tbody tr th {\n",
       "        vertical-align: top;\n",
       "    }\n",
       "\n",
       "    .dataframe thead th {\n",
       "        text-align: right;\n",
       "    }\n",
       "</style>\n",
       "<table border=\"1\" class=\"dataframe\">\n",
       "  <thead>\n",
       "    <tr style=\"text-align: right;\">\n",
       "      <th></th>\n",
       "      <th>tweet_id</th>\n",
       "      <th>jpg_url</th>\n",
       "      <th>img_num</th>\n",
       "      <th>p1</th>\n",
       "      <th>p1_conf</th>\n",
       "      <th>p1_dog</th>\n",
       "      <th>p2</th>\n",
       "      <th>p2_conf</th>\n",
       "      <th>p2_dog</th>\n",
       "      <th>p3</th>\n",
       "      <th>p3_conf</th>\n",
       "      <th>p3_dog</th>\n",
       "    </tr>\n",
       "  </thead>\n",
       "  <tbody>\n",
       "    <tr>\n",
       "      <th>926</th>\n",
       "      <td>702598099714314240</td>\n",
       "      <td>https://pbs.twimg.com/media/CcAhPevW8AAoknv.jpg</td>\n",
       "      <td>1</td>\n",
       "      <td>kelpie</td>\n",
       "      <td>0.219179</td>\n",
       "      <td>True</td>\n",
       "      <td>badger</td>\n",
       "      <td>0.133584</td>\n",
       "      <td>False</td>\n",
       "      <td>Siamese_cat</td>\n",
       "      <td>7.444000e-02</td>\n",
       "      <td>False</td>\n",
       "    </tr>\n",
       "    <tr>\n",
       "      <th>1184</th>\n",
       "      <td>738883359779196928</td>\n",
       "      <td>https://pbs.twimg.com/media/CkEKe3QWYAAwoDy.jpg</td>\n",
       "      <td>2</td>\n",
       "      <td>Labrador_retriever</td>\n",
       "      <td>0.691137</td>\n",
       "      <td>True</td>\n",
       "      <td>golden_retriever</td>\n",
       "      <td>0.195558</td>\n",
       "      <td>True</td>\n",
       "      <td>Chesapeake_Bay_retriever</td>\n",
       "      <td>1.958490e-02</td>\n",
       "      <td>True</td>\n",
       "    </tr>\n",
       "    <tr>\n",
       "      <th>149</th>\n",
       "      <td>668636665813057536</td>\n",
       "      <td>https://pbs.twimg.com/media/CUd5gBGWwAA0IVA.jpg</td>\n",
       "      <td>1</td>\n",
       "      <td>komondor</td>\n",
       "      <td>0.999956</td>\n",
       "      <td>True</td>\n",
       "      <td>llama</td>\n",
       "      <td>0.000043</td>\n",
       "      <td>False</td>\n",
       "      <td>ram</td>\n",
       "      <td>2.160900e-07</td>\n",
       "      <td>False</td>\n",
       "    </tr>\n",
       "    <tr>\n",
       "      <th>839</th>\n",
       "      <td>694356675654983680</td>\n",
       "      <td>https://pbs.twimg.com/media/CaLZtmsWQAApbFw.jpg</td>\n",
       "      <td>1</td>\n",
       "      <td>hamster</td>\n",
       "      <td>0.429871</td>\n",
       "      <td>False</td>\n",
       "      <td>Pomeranian</td>\n",
       "      <td>0.144272</td>\n",
       "      <td>True</td>\n",
       "      <td>pretzel</td>\n",
       "      <td>1.272200e-01</td>\n",
       "      <td>False</td>\n",
       "    </tr>\n",
       "    <tr>\n",
       "      <th>817</th>\n",
       "      <td>692894228850999298</td>\n",
       "      <td>https://pbs.twimg.com/media/CZ2nn7BUsAI2Pj3.jpg</td>\n",
       "      <td>1</td>\n",
       "      <td>German_short-haired_pointer</td>\n",
       "      <td>0.876977</td>\n",
       "      <td>True</td>\n",
       "      <td>bluetick</td>\n",
       "      <td>0.036615</td>\n",
       "      <td>True</td>\n",
       "      <td>basset</td>\n",
       "      <td>1.784770e-02</td>\n",
       "      <td>True</td>\n",
       "    </tr>\n",
       "  </tbody>\n",
       "</table>\n",
       "</div>"
      ],
      "text/plain": [
       "                tweet_id                                          jpg_url  \\\n",
       "926   702598099714314240  https://pbs.twimg.com/media/CcAhPevW8AAoknv.jpg   \n",
       "1184  738883359779196928  https://pbs.twimg.com/media/CkEKe3QWYAAwoDy.jpg   \n",
       "149   668636665813057536  https://pbs.twimg.com/media/CUd5gBGWwAA0IVA.jpg   \n",
       "839   694356675654983680  https://pbs.twimg.com/media/CaLZtmsWQAApbFw.jpg   \n",
       "817   692894228850999298  https://pbs.twimg.com/media/CZ2nn7BUsAI2Pj3.jpg   \n",
       "\n",
       "      img_num                           p1   p1_conf  p1_dog  \\\n",
       "926         1                       kelpie  0.219179    True   \n",
       "1184        2           Labrador_retriever  0.691137    True   \n",
       "149         1                     komondor  0.999956    True   \n",
       "839         1                      hamster  0.429871   False   \n",
       "817         1  German_short-haired_pointer  0.876977    True   \n",
       "\n",
       "                    p2   p2_conf  p2_dog                        p3  \\\n",
       "926             badger  0.133584   False               Siamese_cat   \n",
       "1184  golden_retriever  0.195558    True  Chesapeake_Bay_retriever   \n",
       "149              llama  0.000043   False                       ram   \n",
       "839         Pomeranian  0.144272    True                   pretzel   \n",
       "817           bluetick  0.036615    True                    basset   \n",
       "\n",
       "           p3_conf  p3_dog  \n",
       "926   7.444000e-02   False  \n",
       "1184  1.958490e-02    True  \n",
       "149   2.160900e-07   False  \n",
       "839   1.272200e-01   False  \n",
       "817   1.784770e-02    True  "
      ]
     },
     "execution_count": 10,
     "metadata": {},
     "output_type": "execute_result"
    }
   ],
   "source": [
    "image_predictions_df.sample(5)"
   ]
  },
  {
   "cell_type": "code",
   "execution_count": 11,
   "metadata": {},
   "outputs": [
    {
     "data": {
      "text/html": [
       "<div>\n",
       "<style scoped>\n",
       "    .dataframe tbody tr th:only-of-type {\n",
       "        vertical-align: middle;\n",
       "    }\n",
       "\n",
       "    .dataframe tbody tr th {\n",
       "        vertical-align: top;\n",
       "    }\n",
       "\n",
       "    .dataframe thead th {\n",
       "        text-align: right;\n",
       "    }\n",
       "</style>\n",
       "<table border=\"1\" class=\"dataframe\">\n",
       "  <thead>\n",
       "    <tr style=\"text-align: right;\">\n",
       "      <th></th>\n",
       "      <th>fav_count</th>\n",
       "      <th>retweet_count</th>\n",
       "      <th>tweet_id</th>\n",
       "      <th>user_count</th>\n",
       "    </tr>\n",
       "  </thead>\n",
       "  <tbody>\n",
       "    <tr>\n",
       "      <th>1385</th>\n",
       "      <td>2487</td>\n",
       "      <td>646</td>\n",
       "      <td>700505138482569216</td>\n",
       "      <td>3200950</td>\n",
       "    </tr>\n",
       "    <tr>\n",
       "      <th>213</th>\n",
       "      <td>25944</td>\n",
       "      <td>7855</td>\n",
       "      <td>851464819735769094</td>\n",
       "      <td>3200891</td>\n",
       "    </tr>\n",
       "    <tr>\n",
       "      <th>271</th>\n",
       "      <td>0</td>\n",
       "      <td>1972</td>\n",
       "      <td>840761248237133825</td>\n",
       "      <td>3200891</td>\n",
       "    </tr>\n",
       "    <tr>\n",
       "      <th>123</th>\n",
       "      <td>0</td>\n",
       "      <td>2240</td>\n",
       "      <td>868639477480148993</td>\n",
       "      <td>3200891</td>\n",
       "    </tr>\n",
       "    <tr>\n",
       "      <th>1396</th>\n",
       "      <td>2150</td>\n",
       "      <td>690</td>\n",
       "      <td>699775878809702401</td>\n",
       "      <td>3200950</td>\n",
       "    </tr>\n",
       "  </tbody>\n",
       "</table>\n",
       "</div>"
      ],
      "text/plain": [
       "      fav_count  retweet_count            tweet_id  user_count\n",
       "1385       2487            646  700505138482569216     3200950\n",
       "213       25944           7855  851464819735769094     3200891\n",
       "271           0           1972  840761248237133825     3200891\n",
       "123           0           2240  868639477480148993     3200891\n",
       "1396       2150            690  699775878809702401     3200950"
      ]
     },
     "execution_count": 11,
     "metadata": {},
     "output_type": "execute_result"
    }
   ],
   "source": [
    "api_df.sample(5)"
   ]
  },
  {
   "cell_type": "code",
   "execution_count": 12,
   "metadata": {},
   "outputs": [
    {
     "name": "stdout",
     "output_type": "stream",
     "text": [
      "<class 'pandas.core.frame.DataFrame'>\n",
      "RangeIndex: 2356 entries, 0 to 2355\n",
      "Data columns (total 17 columns):\n",
      "tweet_id                      2356 non-null int64\n",
      "in_reply_to_status_id         78 non-null float64\n",
      "in_reply_to_user_id           78 non-null float64\n",
      "timestamp                     2356 non-null object\n",
      "source                        2356 non-null object\n",
      "text                          2356 non-null object\n",
      "retweeted_status_id           181 non-null float64\n",
      "retweeted_status_user_id      181 non-null float64\n",
      "retweeted_status_timestamp    181 non-null object\n",
      "expanded_urls                 2297 non-null object\n",
      "rating_numerator              2356 non-null int64\n",
      "rating_denominator            2356 non-null int64\n",
      "name                          2356 non-null object\n",
      "doggo                         2356 non-null object\n",
      "floofer                       2356 non-null object\n",
      "pupper                        2356 non-null object\n",
      "puppo                         2356 non-null object\n",
      "dtypes: float64(4), int64(3), object(10)\n",
      "memory usage: 313.0+ KB\n"
     ]
    }
   ],
   "source": [
    "archive_df.info()"
   ]
  },
  {
   "cell_type": "code",
   "execution_count": 10,
   "metadata": {},
   "outputs": [
    {
     "name": "stdout",
     "output_type": "stream",
     "text": [
      "<class 'pandas.core.frame.DataFrame'>\n",
      "RangeIndex: 2075 entries, 0 to 2074\n",
      "Data columns (total 12 columns):\n",
      "tweet_id    2075 non-null int64\n",
      "jpg_url     2075 non-null object\n",
      "img_num     2075 non-null int64\n",
      "p1          2075 non-null object\n",
      "p1_conf     2075 non-null float64\n",
      "p1_dog      2075 non-null bool\n",
      "p2          2075 non-null object\n",
      "p2_conf     2075 non-null float64\n",
      "p2_dog      2075 non-null bool\n",
      "p3          2075 non-null object\n",
      "p3_conf     2075 non-null float64\n",
      "p3_dog      2075 non-null bool\n",
      "dtypes: bool(3), float64(3), int64(2), object(4)\n",
      "memory usage: 152.1+ KB\n"
     ]
    }
   ],
   "source": [
    "image_predictions_df.info()"
   ]
  },
  {
   "cell_type": "code",
   "execution_count": 11,
   "metadata": {},
   "outputs": [
    {
     "name": "stdout",
     "output_type": "stream",
     "text": [
      "<class 'pandas.core.frame.DataFrame'>\n",
      "RangeIndex: 2354 entries, 0 to 2353\n",
      "Data columns (total 4 columns):\n",
      "fav_count        2354 non-null int64\n",
      "retweet_count    2354 non-null int64\n",
      "tweet_id         2354 non-null int64\n",
      "user_count       2354 non-null int64\n",
      "dtypes: int64(4)\n",
      "memory usage: 73.6 KB\n"
     ]
    }
   ],
   "source": [
    "api_df.info()"
   ]
  },
  {
   "cell_type": "code",
   "execution_count": 13,
   "metadata": {},
   "outputs": [
    {
     "data": {
      "text/plain": [
       "None        745\n",
       "a            55\n",
       "Charlie      12\n",
       "Cooper       11\n",
       "Oliver       11\n",
       "Lucy         11\n",
       "Penny        10\n",
       "Tucker       10\n",
       "Lola         10\n",
       "Bo            9\n",
       "Winston       9\n",
       "Sadie         8\n",
       "the           8\n",
       "Bailey        7\n",
       "an            7\n",
       "Daisy         7\n",
       "Toby          7\n",
       "Buddy         7\n",
       "Dave          6\n",
       "Milo          6\n",
       "Bella         6\n",
       "Rusty         6\n",
       "Leo           6\n",
       "Jax           6\n",
       "Oscar         6\n",
       "Scout         6\n",
       "Stanley       6\n",
       "Koda          6\n",
       "Jack          6\n",
       "Gus           5\n",
       "           ... \n",
       "Harvey        1\n",
       "Skittle       1\n",
       "Tilly         1\n",
       "my            1\n",
       "Sky           1\n",
       "Timofy        1\n",
       "Maude         1\n",
       "Einstein      1\n",
       "Andru         1\n",
       "Aubie         1\n",
       "Kayla         1\n",
       "Ginger        1\n",
       "Birf          1\n",
       "Storkson      1\n",
       "Ebby          1\n",
       "Mairi         1\n",
       "Kota          1\n",
       "Chloe         1\n",
       "Milky         1\n",
       "Maxwell       1\n",
       "Schnozz       1\n",
       "Willow        1\n",
       "Fillup        1\n",
       "Pilot         1\n",
       "Brockly       1\n",
       "Bronte        1\n",
       "Sparky        1\n",
       "Chase         1\n",
       "Boots         1\n",
       "Eevee         1\n",
       "Name: name, Length: 957, dtype: int64"
      ]
     },
     "execution_count": 13,
     "metadata": {},
     "output_type": "execute_result"
    }
   ],
   "source": [
    "archive_df.name.value_counts()"
   ]
  },
  {
   "cell_type": "code",
   "execution_count": 14,
   "metadata": {},
   "outputs": [
    {
     "data": {
      "text/plain": [
       "None     2259\n",
       "doggo      97\n",
       "Name: doggo, dtype: int64"
      ]
     },
     "execution_count": 14,
     "metadata": {},
     "output_type": "execute_result"
    }
   ],
   "source": [
    "archive_df.doggo.value_counts()"
   ]
  },
  {
   "cell_type": "code",
   "execution_count": 15,
   "metadata": {},
   "outputs": [
    {
     "data": {
      "text/plain": [
       "None       2346\n",
       "floofer      10\n",
       "Name: floofer, dtype: int64"
      ]
     },
     "execution_count": 15,
     "metadata": {},
     "output_type": "execute_result"
    }
   ],
   "source": [
    "archive_df.floofer.value_counts()\n"
   ]
  },
  {
   "cell_type": "code",
   "execution_count": 16,
   "metadata": {},
   "outputs": [
    {
     "data": {
      "text/plain": [
       "None      2099\n",
       "pupper     257\n",
       "Name: pupper, dtype: int64"
      ]
     },
     "execution_count": 16,
     "metadata": {},
     "output_type": "execute_result"
    }
   ],
   "source": [
    "archive_df.pupper.value_counts()\n"
   ]
  },
  {
   "cell_type": "code",
   "execution_count": 17,
   "metadata": {},
   "outputs": [
    {
     "data": {
      "text/plain": [
       "None     2326\n",
       "puppo      30\n",
       "Name: puppo, dtype: int64"
      ]
     },
     "execution_count": 17,
     "metadata": {},
     "output_type": "execute_result"
    }
   ],
   "source": [
    "\n",
    "archive_df.puppo.value_counts()"
   ]
  },
  {
   "cell_type": "code",
   "execution_count": 18,
   "metadata": {},
   "outputs": [
    {
     "data": {
      "text/plain": [
       "count    2356.000000\n",
       "mean       13.126486\n",
       "std        45.876648\n",
       "min         0.000000\n",
       "25%        10.000000\n",
       "50%        11.000000\n",
       "75%        12.000000\n",
       "max      1776.000000\n",
       "Name: rating_numerator, dtype: float64"
      ]
     },
     "execution_count": 18,
     "metadata": {},
     "output_type": "execute_result"
    }
   ],
   "source": [
    "archive_df.rating_numerator.describe()"
   ]
  },
  {
   "cell_type": "code",
   "execution_count": 19,
   "metadata": {},
   "outputs": [
    {
     "data": {
      "text/plain": [
       "count    2356.000000\n",
       "mean       10.455433\n",
       "std         6.745237\n",
       "min         0.000000\n",
       "25%        10.000000\n",
       "50%        10.000000\n",
       "75%        10.000000\n",
       "max       170.000000\n",
       "Name: rating_denominator, dtype: float64"
      ]
     },
     "execution_count": 19,
     "metadata": {},
     "output_type": "execute_result"
    }
   ],
   "source": [
    "archive_df.rating_denominator.describe()"
   ]
  },
  {
   "cell_type": "code",
   "execution_count": 20,
   "metadata": {},
   "outputs": [
    {
     "data": {
      "text/plain": [
       "10     2333\n",
       "11        3\n",
       "50        3\n",
       "80        2\n",
       "20        2\n",
       "2         1\n",
       "16        1\n",
       "40        1\n",
       "70        1\n",
       "15        1\n",
       "90        1\n",
       "110       1\n",
       "120       1\n",
       "130       1\n",
       "150       1\n",
       "170       1\n",
       "7         1\n",
       "0         1\n",
       "Name: rating_denominator, dtype: int64"
      ]
     },
     "execution_count": 20,
     "metadata": {},
     "output_type": "execute_result"
    }
   ],
   "source": [
    "archive_df.rating_denominator.value_counts()"
   ]
  },
  {
   "cell_type": "code",
   "execution_count": 21,
   "metadata": {},
   "outputs": [
    {
     "data": {
      "text/plain": [
       "12      558\n",
       "11      464\n",
       "10      461\n",
       "13      351\n",
       "9       158\n",
       "8       102\n",
       "7        55\n",
       "14       54\n",
       "5        37\n",
       "6        32\n",
       "3        19\n",
       "4        17\n",
       "1         9\n",
       "2         9\n",
       "420       2\n",
       "0         2\n",
       "15        2\n",
       "75        2\n",
       "80        1\n",
       "20        1\n",
       "24        1\n",
       "26        1\n",
       "44        1\n",
       "50        1\n",
       "60        1\n",
       "165       1\n",
       "84        1\n",
       "88        1\n",
       "144       1\n",
       "182       1\n",
       "143       1\n",
       "666       1\n",
       "960       1\n",
       "1776      1\n",
       "17        1\n",
       "27        1\n",
       "45        1\n",
       "99        1\n",
       "121       1\n",
       "204       1\n",
       "Name: rating_numerator, dtype: int64"
      ]
     },
     "execution_count": 21,
     "metadata": {},
     "output_type": "execute_result"
    }
   ],
   "source": [
    "archive_df.rating_numerator.value_counts()"
   ]
  },
  {
   "cell_type": "code",
   "execution_count": 22,
   "metadata": {},
   "outputs": [
    {
     "data": {
      "text/plain": [
       "golden_retriever             150\n",
       "Labrador_retriever           100\n",
       "Pembroke                      89\n",
       "Chihuahua                     83\n",
       "pug                           57\n",
       "chow                          44\n",
       "Samoyed                       43\n",
       "toy_poodle                    39\n",
       "Pomeranian                    38\n",
       "cocker_spaniel                30\n",
       "malamute                      30\n",
       "French_bulldog                26\n",
       "Chesapeake_Bay_retriever      23\n",
       "miniature_pinscher            23\n",
       "seat_belt                     22\n",
       "German_shepherd               20\n",
       "Siberian_husky                20\n",
       "Staffordshire_bullterrier     20\n",
       "web_site                      19\n",
       "Cardigan                      19\n",
       "Eskimo_dog                    18\n",
       "Maltese_dog                   18\n",
       "Shetland_sheepdog             18\n",
       "teddy                         18\n",
       "beagle                        18\n",
       "Shih-Tzu                      17\n",
       "Rottweiler                    17\n",
       "Lakeland_terrier              17\n",
       "Italian_greyhound             16\n",
       "kuvasz                        16\n",
       "                            ... \n",
       "American_black_bear            1\n",
       "pencil_box                     1\n",
       "book_jacket                    1\n",
       "sliding_door                   1\n",
       "alp                            1\n",
       "picket_fence                   1\n",
       "soccer_ball                    1\n",
       "bookcase                       1\n",
       "harp                           1\n",
       "bakery                         1\n",
       "bib                            1\n",
       "mailbox                        1\n",
       "Japanese_spaniel               1\n",
       "prayer_rug                     1\n",
       "long-horned_beetle             1\n",
       "Egyptian_cat                   1\n",
       "killer_whale                   1\n",
       "banana                         1\n",
       "binoculars                     1\n",
       "barbell                        1\n",
       "ibex                           1\n",
       "zebra                          1\n",
       "limousine                      1\n",
       "rotisserie                     1\n",
       "pole                           1\n",
       "cowboy_boot                    1\n",
       "revolver                       1\n",
       "candle                         1\n",
       "sulphur-crested_cockatoo       1\n",
       "sundial                        1\n",
       "Name: p1, Length: 378, dtype: int64"
      ]
     },
     "execution_count": 22,
     "metadata": {},
     "output_type": "execute_result"
    }
   ],
   "source": [
    "image_predictions_df.p1.value_counts()"
   ]
  },
  {
   "cell_type": "code",
   "execution_count": 23,
   "metadata": {},
   "outputs": [
    {
     "data": {
      "text/plain": [
       "Labrador_retriever                104\n",
       "golden_retriever                   92\n",
       "Cardigan                           73\n",
       "Chihuahua                          44\n",
       "Pomeranian                         42\n",
       "French_bulldog                     41\n",
       "Chesapeake_Bay_retriever           41\n",
       "toy_poodle                         37\n",
       "cocker_spaniel                     34\n",
       "Siberian_husky                     33\n",
       "miniature_poodle                   33\n",
       "beagle                             28\n",
       "collie                             27\n",
       "Pembroke                           27\n",
       "Eskimo_dog                         27\n",
       "kuvasz                             26\n",
       "Italian_greyhound                  22\n",
       "Pekinese                           21\n",
       "American_Staffordshire_terrier     21\n",
       "miniature_pinscher                 20\n",
       "Samoyed                            20\n",
       "malinois                           20\n",
       "chow                               20\n",
       "toy_terrier                        20\n",
       "Boston_bull                        19\n",
       "Norwegian_elkhound                 19\n",
       "Staffordshire_bullterrier          18\n",
       "pug                                17\n",
       "Irish_terrier                      17\n",
       "Shih-Tzu                           16\n",
       "                                 ... \n",
       "cloak                               1\n",
       "racket                              1\n",
       "breakwater                          1\n",
       "white_wolf                          1\n",
       "cab                                 1\n",
       "siamang                             1\n",
       "television                          1\n",
       "sliding_door                        1\n",
       "screw                               1\n",
       "common_newt                         1\n",
       "shower_cap                          1\n",
       "home_theater                        1\n",
       "snail                               1\n",
       "banded_gecko                        1\n",
       "Japanese_spaniel                    1\n",
       "red_fox                             1\n",
       "cowboy_hat                          1\n",
       "grey_fox                            1\n",
       "toucan                              1\n",
       "horse_cart                          1\n",
       "hair_spray                          1\n",
       "knee_pad                            1\n",
       "sombrero                            1\n",
       "quail                               1\n",
       "can_opener                          1\n",
       "sweatshirt                          1\n",
       "menu                                1\n",
       "mosquito_net                        1\n",
       "bathing_cap                         1\n",
       "laptop                              1\n",
       "Name: p2, Length: 405, dtype: int64"
      ]
     },
     "execution_count": 23,
     "metadata": {},
     "output_type": "execute_result"
    }
   ],
   "source": [
    "image_predictions_df.p2.value_counts()"
   ]
  },
  {
   "cell_type": "code",
   "execution_count": 24,
   "metadata": {},
   "outputs": [
    {
     "data": {
      "text/plain": [
       "Labrador_retriever                79\n",
       "Chihuahua                         58\n",
       "golden_retriever                  48\n",
       "Eskimo_dog                        38\n",
       "kelpie                            35\n",
       "kuvasz                            34\n",
       "Staffordshire_bullterrier         32\n",
       "chow                              32\n",
       "beagle                            31\n",
       "cocker_spaniel                    31\n",
       "toy_poodle                        29\n",
       "Pekinese                          29\n",
       "Pomeranian                        29\n",
       "Pembroke                          27\n",
       "Great_Pyrenees                    27\n",
       "Chesapeake_Bay_retriever          27\n",
       "malamute                          26\n",
       "French_bulldog                    26\n",
       "American_Staffordshire_terrier    24\n",
       "Cardigan                          23\n",
       "pug                               23\n",
       "basenji                           21\n",
       "toy_terrier                       20\n",
       "bull_mastiff                      20\n",
       "Siberian_husky                    19\n",
       "Shetland_sheepdog                 17\n",
       "Boston_bull                       17\n",
       "Lakeland_terrier                  16\n",
       "boxer                             16\n",
       "doormat                           16\n",
       "                                  ..\n",
       "maraca                             1\n",
       "valley                             1\n",
       "theater_curtain                    1\n",
       "snorkel                            1\n",
       "electric_fan                       1\n",
       "shower_cap                         1\n",
       "tripod                             1\n",
       "mink                               1\n",
       "joystick                           1\n",
       "oscilloscope                       1\n",
       "guillotine                         1\n",
       "goldfish                           1\n",
       "bonnet                             1\n",
       "chest                              1\n",
       "zebra                              1\n",
       "jaguar                             1\n",
       "wild_boar                          1\n",
       "dugong                             1\n",
       "cliff                              1\n",
       "eel                                1\n",
       "greenhouse                         1\n",
       "buckeye                            1\n",
       "golfcart                           1\n",
       "beach_wagon                        1\n",
       "soap_dispenser                     1\n",
       "chickadee                          1\n",
       "vacuum                             1\n",
       "barrow                             1\n",
       "Indian_elephant                    1\n",
       "binder                             1\n",
       "Name: p3, Length: 408, dtype: int64"
      ]
     },
     "execution_count": 24,
     "metadata": {},
     "output_type": "execute_result"
    }
   ],
   "source": [
    "image_predictions_df.p3.value_counts()"
   ]
  },
  {
   "cell_type": "markdown",
   "metadata": {},
   "source": [
    "\n",
    "##### Quality\n",
    "- 1- Data type for 'timestamp' column.\n",
    "- 2- replace  NAN value with nan \n",
    "- 3- remove missing  values in expanded_urls column.\n",
    "- 4- 'rating_numerator' & 'rating_denominator' columns include high value.\n",
    "- 5- invalid name in 'name' colums.\n",
    "- 6- name column type error .\n",
    "- 7- replace \"None\" in stages of dog columns & merge columns with  \" \" to  add column\n",
    "- 8-remove  tweet without image\n",
    "\n",
    "#### Tidy\n",
    "- 1- merg dog stage  columns \n",
    "- 2- use  wide  to long method to  merge  column in prediction image \n",
    "- 3- remove retweet ids\n",
    "- 4- change  short columns name to long name \n",
    "  merge columns \n",
    "\n",
    "\n"
   ]
  },
  {
   "cell_type": "markdown",
   "metadata": {},
   "source": [
    "# clean"
   ]
  },
  {
   "cell_type": "code",
   "execution_count": 13,
   "metadata": {},
   "outputs": [],
   "source": [
    "archive_df_clean=archive_df.copy()\n",
    "image_predictions_df_clean=image_predictions_df.copy()\n",
    "api_df_clean=api_df.copy()\n"
   ]
  },
  {
   "cell_type": "markdown",
   "metadata": {},
   "source": [
    "#### 1- Data type for 'timestamp' column.\n",
    "#### define\n",
    "-convert column  to datetime type\n",
    "#### code"
   ]
  },
  {
   "cell_type": "code",
   "execution_count": 14,
   "metadata": {},
   "outputs": [],
   "source": [
    "archive_df_clean['timestamp']=pd.to_datetime(archive_df_clean['timestamp'])"
   ]
  },
  {
   "cell_type": "markdown",
   "metadata": {},
   "source": [
    "#### test"
   ]
  },
  {
   "cell_type": "code",
   "execution_count": 15,
   "metadata": {},
   "outputs": [
    {
     "data": {
      "text/plain": [
       "pandas._libs.tslibs.timestamps.Timestamp"
      ]
     },
     "execution_count": 15,
     "metadata": {},
     "output_type": "execute_result"
    }
   ],
   "source": [
    "type(archive_df_clean['timestamp'][0])"
   ]
  },
  {
   "cell_type": "markdown",
   "metadata": {},
   "source": [
    "### 2-drop'in_reply_to_status_id','in_reply_to_user_id', ' retweeted_status_id','retweeted_status_user_id','retweeted_status_timestamp' columns.\n",
    "#### define\n",
    "-use pandas query  to filter this columns then remove\n",
    "#### code"
   ]
  },
  {
   "cell_type": "code",
   "execution_count": 18,
   "metadata": {},
   "outputs": [],
   "source": [
    "archive_df_clean_2=archive_df_clean.query('retweeted_status_user_id.isnull()' , engine='python')\n",
    "archive_df_clean_2=archive_df_clean_2.drop(['in_reply_to_status_id','in_reply_to_user_id',\n",
    "                                            'retweeted_status_id','retweeted_status_user_id',\n",
    "                                            'retweeted_status_timestamp'],axis=1)"
   ]
  },
  {
   "cell_type": "markdown",
   "metadata": {},
   "source": [
    "#### test "
   ]
  },
  {
   "cell_type": "code",
   "execution_count": 29,
   "metadata": {},
   "outputs": [
    {
     "name": "stdout",
     "output_type": "stream",
     "text": [
      "<class 'pandas.core.frame.DataFrame'>\n",
      "Int64Index: 2175 entries, 0 to 2355\n",
      "Data columns (total 12 columns):\n",
      "tweet_id              2175 non-null int64\n",
      "timestamp             2175 non-null datetime64[ns]\n",
      "source                2175 non-null object\n",
      "text                  2175 non-null object\n",
      "expanded_urls         2117 non-null object\n",
      "rating_numerator      2175 non-null int64\n",
      "rating_denominator    2175 non-null int64\n",
      "name                  2175 non-null object\n",
      "doggo                 2175 non-null object\n",
      "floofer               2175 non-null object\n",
      "pupper                2175 non-null object\n",
      "puppo                 2175 non-null object\n",
      "dtypes: datetime64[ns](1), int64(3), object(8)\n",
      "memory usage: 220.9+ KB\n"
     ]
    }
   ],
   "source": [
    "archive_df_clean_2.info()"
   ]
  },
  {
   "cell_type": "markdown",
   "metadata": {},
   "source": [
    "### 3- remove missing  values in expanded_urls  .\n",
    "##### define\n",
    "- use fillna method to fill missing values and filter by query to remove missing  values rows in 'expanded_urls' column.\n",
    "##### code"
   ]
  },
  {
   "cell_type": "code",
   "execution_count": 30,
   "metadata": {},
   "outputs": [],
   "source": [
    "archive_df_clean_2['expanded_urls']=archive_df_clean_2['expanded_urls'].fillna(\"non\")\n",
    "archive_df_clean_3=archive_df_clean_2.query('expanded_urls != \"non\"')\n"
   ]
  },
  {
   "cell_type": "markdown",
   "metadata": {},
   "source": [
    "#### test\n"
   ]
  },
  {
   "cell_type": "code",
   "execution_count": 31,
   "metadata": {},
   "outputs": [
    {
     "name": "stdout",
     "output_type": "stream",
     "text": [
      "<class 'pandas.core.frame.DataFrame'>\n",
      "Int64Index: 2117 entries, 0 to 2355\n",
      "Data columns (total 12 columns):\n",
      "tweet_id              2117 non-null int64\n",
      "timestamp             2117 non-null datetime64[ns]\n",
      "source                2117 non-null object\n",
      "text                  2117 non-null object\n",
      "expanded_urls         2117 non-null object\n",
      "rating_numerator      2117 non-null int64\n",
      "rating_denominator    2117 non-null int64\n",
      "name                  2117 non-null object\n",
      "doggo                 2117 non-null object\n",
      "floofer               2117 non-null object\n",
      "pupper                2117 non-null object\n",
      "puppo                 2117 non-null object\n",
      "dtypes: datetime64[ns](1), int64(3), object(8)\n",
      "memory usage: 215.0+ KB\n"
     ]
    }
   ],
   "source": [
    "archive_df_clean_3.info()"
   ]
  },
  {
   "cell_type": "markdown",
   "metadata": {},
   "source": [
    "### 3- wrong values in rating_numerator and rating_denominator\n",
    "#### define\n",
    "-   rating_denominator wrong values : take values out and mange it manually and get it back again \n",
    "-   rating_numerator  wrong values : extract  values from text column \n",
    "#### code\n",
    "#### 1- rating_denominator"
   ]
  },
  {
   "cell_type": "code",
   "execution_count": 32,
   "metadata": {},
   "outputs": [
    {
     "data": {
      "text/html": [
       "<div>\n",
       "<style scoped>\n",
       "    .dataframe tbody tr th:only-of-type {\n",
       "        vertical-align: middle;\n",
       "    }\n",
       "\n",
       "    .dataframe tbody tr th {\n",
       "        vertical-align: top;\n",
       "    }\n",
       "\n",
       "    .dataframe thead th {\n",
       "        text-align: right;\n",
       "    }\n",
       "</style>\n",
       "<table border=\"1\" class=\"dataframe\">\n",
       "  <thead>\n",
       "    <tr style=\"text-align: right;\">\n",
       "      <th></th>\n",
       "      <th>tweet_id</th>\n",
       "      <th>timestamp</th>\n",
       "      <th>source</th>\n",
       "      <th>text</th>\n",
       "      <th>expanded_urls</th>\n",
       "      <th>rating_numerator</th>\n",
       "      <th>rating_denominator</th>\n",
       "      <th>name</th>\n",
       "      <th>doggo</th>\n",
       "      <th>floofer</th>\n",
       "      <th>pupper</th>\n",
       "      <th>puppo</th>\n",
       "    </tr>\n",
       "  </thead>\n",
       "  <tbody>\n",
       "    <tr>\n",
       "      <th>433</th>\n",
       "      <td>820690176645140481</td>\n",
       "      <td>2017-01-15 17:52:40</td>\n",
       "      <td>&lt;a href=\"http://twitter.com/download/iphone\" r...</td>\n",
       "      <td>The floofs have been released I repeat the flo...</td>\n",
       "      <td>https://twitter.com/dog_rates/status/820690176...</td>\n",
       "      <td>84</td>\n",
       "      <td>70</td>\n",
       "      <td>None</td>\n",
       "      <td>None</td>\n",
       "      <td>None</td>\n",
       "      <td>None</td>\n",
       "      <td>None</td>\n",
       "    </tr>\n",
       "    <tr>\n",
       "      <th>516</th>\n",
       "      <td>810984652412424192</td>\n",
       "      <td>2016-12-19 23:06:23</td>\n",
       "      <td>&lt;a href=\"http://twitter.com/download/iphone\" r...</td>\n",
       "      <td>Meet Sam. She smiles 24/7 &amp;amp; secretly aspir...</td>\n",
       "      <td>https://www.gofundme.com/sams-smile,https://tw...</td>\n",
       "      <td>24</td>\n",
       "      <td>7</td>\n",
       "      <td>Sam</td>\n",
       "      <td>None</td>\n",
       "      <td>None</td>\n",
       "      <td>None</td>\n",
       "      <td>None</td>\n",
       "    </tr>\n",
       "    <tr>\n",
       "      <th>902</th>\n",
       "      <td>758467244762497024</td>\n",
       "      <td>2016-07-28 01:00:57</td>\n",
       "      <td>&lt;a href=\"http://twitter.com/download/iphone\" r...</td>\n",
       "      <td>Why does this never happen at my front door......</td>\n",
       "      <td>https://twitter.com/dog_rates/status/758467244...</td>\n",
       "      <td>165</td>\n",
       "      <td>150</td>\n",
       "      <td>None</td>\n",
       "      <td>None</td>\n",
       "      <td>None</td>\n",
       "      <td>None</td>\n",
       "      <td>None</td>\n",
       "    </tr>\n",
       "    <tr>\n",
       "      <th>1068</th>\n",
       "      <td>740373189193256964</td>\n",
       "      <td>2016-06-08 02:41:38</td>\n",
       "      <td>&lt;a href=\"http://twitter.com/download/iphone\" r...</td>\n",
       "      <td>After so many requests, this is Bretagne. She ...</td>\n",
       "      <td>https://twitter.com/dog_rates/status/740373189...</td>\n",
       "      <td>9</td>\n",
       "      <td>11</td>\n",
       "      <td>None</td>\n",
       "      <td>None</td>\n",
       "      <td>None</td>\n",
       "      <td>None</td>\n",
       "      <td>None</td>\n",
       "    </tr>\n",
       "    <tr>\n",
       "      <th>1120</th>\n",
       "      <td>731156023742988288</td>\n",
       "      <td>2016-05-13 16:15:54</td>\n",
       "      <td>&lt;a href=\"http://twitter.com/download/iphone\" r...</td>\n",
       "      <td>Say hello to this unbelievably well behaved sq...</td>\n",
       "      <td>https://twitter.com/dog_rates/status/731156023...</td>\n",
       "      <td>204</td>\n",
       "      <td>170</td>\n",
       "      <td>this</td>\n",
       "      <td>None</td>\n",
       "      <td>None</td>\n",
       "      <td>None</td>\n",
       "      <td>None</td>\n",
       "    </tr>\n",
       "    <tr>\n",
       "      <th>1165</th>\n",
       "      <td>722974582966214656</td>\n",
       "      <td>2016-04-21 02:25:47</td>\n",
       "      <td>&lt;a href=\"http://twitter.com/download/iphone\" r...</td>\n",
       "      <td>Happy 4/20 from the squad! 13/10 for all https...</td>\n",
       "      <td>https://twitter.com/dog_rates/status/722974582...</td>\n",
       "      <td>4</td>\n",
       "      <td>20</td>\n",
       "      <td>None</td>\n",
       "      <td>None</td>\n",
       "      <td>None</td>\n",
       "      <td>None</td>\n",
       "      <td>None</td>\n",
       "    </tr>\n",
       "    <tr>\n",
       "      <th>1202</th>\n",
       "      <td>716439118184652801</td>\n",
       "      <td>2016-04-03 01:36:11</td>\n",
       "      <td>&lt;a href=\"http://twitter.com/download/iphone\" r...</td>\n",
       "      <td>This is Bluebert. He just saw that both #Final...</td>\n",
       "      <td>https://twitter.com/dog_rates/status/716439118...</td>\n",
       "      <td>50</td>\n",
       "      <td>50</td>\n",
       "      <td>Bluebert</td>\n",
       "      <td>None</td>\n",
       "      <td>None</td>\n",
       "      <td>None</td>\n",
       "      <td>None</td>\n",
       "    </tr>\n",
       "    <tr>\n",
       "      <th>1228</th>\n",
       "      <td>713900603437621249</td>\n",
       "      <td>2016-03-27 01:29:02</td>\n",
       "      <td>&lt;a href=\"http://twitter.com/download/iphone\" r...</td>\n",
       "      <td>Happy Saturday here's 9 puppers on a bench. 99...</td>\n",
       "      <td>https://twitter.com/dog_rates/status/713900603...</td>\n",
       "      <td>99</td>\n",
       "      <td>90</td>\n",
       "      <td>None</td>\n",
       "      <td>None</td>\n",
       "      <td>None</td>\n",
       "      <td>None</td>\n",
       "      <td>None</td>\n",
       "    </tr>\n",
       "    <tr>\n",
       "      <th>1254</th>\n",
       "      <td>710658690886586372</td>\n",
       "      <td>2016-03-18 02:46:49</td>\n",
       "      <td>&lt;a href=\"http://twitter.com/download/iphone\" r...</td>\n",
       "      <td>Here's a brigade of puppers. All look very pre...</td>\n",
       "      <td>https://twitter.com/dog_rates/status/710658690...</td>\n",
       "      <td>80</td>\n",
       "      <td>80</td>\n",
       "      <td>None</td>\n",
       "      <td>None</td>\n",
       "      <td>None</td>\n",
       "      <td>None</td>\n",
       "      <td>None</td>\n",
       "    </tr>\n",
       "    <tr>\n",
       "      <th>1274</th>\n",
       "      <td>709198395643068416</td>\n",
       "      <td>2016-03-14 02:04:08</td>\n",
       "      <td>&lt;a href=\"http://twitter.com/download/iphone\" r...</td>\n",
       "      <td>From left to right:\\nCletus, Jerome, Alejandro...</td>\n",
       "      <td>https://twitter.com/dog_rates/status/709198395...</td>\n",
       "      <td>45</td>\n",
       "      <td>50</td>\n",
       "      <td>None</td>\n",
       "      <td>None</td>\n",
       "      <td>None</td>\n",
       "      <td>None</td>\n",
       "      <td>None</td>\n",
       "    </tr>\n",
       "    <tr>\n",
       "      <th>1351</th>\n",
       "      <td>704054845121142784</td>\n",
       "      <td>2016-02-28 21:25:30</td>\n",
       "      <td>&lt;a href=\"http://twitter.com/download/iphone\" r...</td>\n",
       "      <td>Here is a whole flock of puppers.  60/50 I'll ...</td>\n",
       "      <td>https://twitter.com/dog_rates/status/704054845...</td>\n",
       "      <td>60</td>\n",
       "      <td>50</td>\n",
       "      <td>a</td>\n",
       "      <td>None</td>\n",
       "      <td>None</td>\n",
       "      <td>None</td>\n",
       "      <td>None</td>\n",
       "    </tr>\n",
       "    <tr>\n",
       "      <th>1433</th>\n",
       "      <td>697463031882764288</td>\n",
       "      <td>2016-02-10 16:51:59</td>\n",
       "      <td>&lt;a href=\"http://twitter.com/download/iphone\" r...</td>\n",
       "      <td>Happy Wednesday here's a bucket of pups. 44/40...</td>\n",
       "      <td>https://twitter.com/dog_rates/status/697463031...</td>\n",
       "      <td>44</td>\n",
       "      <td>40</td>\n",
       "      <td>None</td>\n",
       "      <td>None</td>\n",
       "      <td>None</td>\n",
       "      <td>None</td>\n",
       "      <td>None</td>\n",
       "    </tr>\n",
       "    <tr>\n",
       "      <th>1634</th>\n",
       "      <td>684225744407494656</td>\n",
       "      <td>2016-01-05 04:11:44</td>\n",
       "      <td>&lt;a href=\"http://twitter.com/download/iphone\" r...</td>\n",
       "      <td>Two sneaky puppers were not initially seen, mo...</td>\n",
       "      <td>https://twitter.com/dog_rates/status/684225744...</td>\n",
       "      <td>143</td>\n",
       "      <td>130</td>\n",
       "      <td>None</td>\n",
       "      <td>None</td>\n",
       "      <td>None</td>\n",
       "      <td>None</td>\n",
       "      <td>None</td>\n",
       "    </tr>\n",
       "    <tr>\n",
       "      <th>1635</th>\n",
       "      <td>684222868335505415</td>\n",
       "      <td>2016-01-05 04:00:18</td>\n",
       "      <td>&lt;a href=\"http://twitter.com/download/iphone\" r...</td>\n",
       "      <td>Someone help the girl is being mugged. Several...</td>\n",
       "      <td>https://twitter.com/dog_rates/status/684222868...</td>\n",
       "      <td>121</td>\n",
       "      <td>110</td>\n",
       "      <td>None</td>\n",
       "      <td>None</td>\n",
       "      <td>None</td>\n",
       "      <td>None</td>\n",
       "      <td>None</td>\n",
       "    </tr>\n",
       "    <tr>\n",
       "      <th>1662</th>\n",
       "      <td>682962037429899265</td>\n",
       "      <td>2016-01-01 16:30:13</td>\n",
       "      <td>&lt;a href=\"http://twitter.com/download/iphone\" r...</td>\n",
       "      <td>This is Darrel. He just robbed a 7/11 and is i...</td>\n",
       "      <td>https://twitter.com/dog_rates/status/682962037...</td>\n",
       "      <td>7</td>\n",
       "      <td>11</td>\n",
       "      <td>Darrel</td>\n",
       "      <td>None</td>\n",
       "      <td>None</td>\n",
       "      <td>None</td>\n",
       "      <td>None</td>\n",
       "    </tr>\n",
       "    <tr>\n",
       "      <th>1779</th>\n",
       "      <td>677716515794329600</td>\n",
       "      <td>2015-12-18 05:06:23</td>\n",
       "      <td>&lt;a href=\"http://twitter.com/download/iphone\" r...</td>\n",
       "      <td>IT'S PUPPERGEDDON. Total of 144/120 ...I think...</td>\n",
       "      <td>https://twitter.com/dog_rates/status/677716515...</td>\n",
       "      <td>144</td>\n",
       "      <td>120</td>\n",
       "      <td>None</td>\n",
       "      <td>None</td>\n",
       "      <td>None</td>\n",
       "      <td>None</td>\n",
       "      <td>None</td>\n",
       "    </tr>\n",
       "    <tr>\n",
       "      <th>1843</th>\n",
       "      <td>675853064436391936</td>\n",
       "      <td>2015-12-13 01:41:41</td>\n",
       "      <td>&lt;a href=\"http://twitter.com/download/iphone\" r...</td>\n",
       "      <td>Here we have an entire platoon of puppers. Tot...</td>\n",
       "      <td>https://twitter.com/dog_rates/status/675853064...</td>\n",
       "      <td>88</td>\n",
       "      <td>80</td>\n",
       "      <td>None</td>\n",
       "      <td>None</td>\n",
       "      <td>None</td>\n",
       "      <td>None</td>\n",
       "      <td>None</td>\n",
       "    </tr>\n",
       "    <tr>\n",
       "      <th>2335</th>\n",
       "      <td>666287406224695296</td>\n",
       "      <td>2015-11-16 16:11:11</td>\n",
       "      <td>&lt;a href=\"http://twitter.com/download/iphone\" r...</td>\n",
       "      <td>This is an Albanian 3 1/2 legged  Episcopalian...</td>\n",
       "      <td>https://twitter.com/dog_rates/status/666287406...</td>\n",
       "      <td>1</td>\n",
       "      <td>2</td>\n",
       "      <td>an</td>\n",
       "      <td>None</td>\n",
       "      <td>None</td>\n",
       "      <td>None</td>\n",
       "      <td>None</td>\n",
       "    </tr>\n",
       "  </tbody>\n",
       "</table>\n",
       "</div>"
      ],
      "text/plain": [
       "                tweet_id           timestamp  \\\n",
       "433   820690176645140481 2017-01-15 17:52:40   \n",
       "516   810984652412424192 2016-12-19 23:06:23   \n",
       "902   758467244762497024 2016-07-28 01:00:57   \n",
       "1068  740373189193256964 2016-06-08 02:41:38   \n",
       "1120  731156023742988288 2016-05-13 16:15:54   \n",
       "1165  722974582966214656 2016-04-21 02:25:47   \n",
       "1202  716439118184652801 2016-04-03 01:36:11   \n",
       "1228  713900603437621249 2016-03-27 01:29:02   \n",
       "1254  710658690886586372 2016-03-18 02:46:49   \n",
       "1274  709198395643068416 2016-03-14 02:04:08   \n",
       "1351  704054845121142784 2016-02-28 21:25:30   \n",
       "1433  697463031882764288 2016-02-10 16:51:59   \n",
       "1634  684225744407494656 2016-01-05 04:11:44   \n",
       "1635  684222868335505415 2016-01-05 04:00:18   \n",
       "1662  682962037429899265 2016-01-01 16:30:13   \n",
       "1779  677716515794329600 2015-12-18 05:06:23   \n",
       "1843  675853064436391936 2015-12-13 01:41:41   \n",
       "2335  666287406224695296 2015-11-16 16:11:11   \n",
       "\n",
       "                                                 source  \\\n",
       "433   <a href=\"http://twitter.com/download/iphone\" r...   \n",
       "516   <a href=\"http://twitter.com/download/iphone\" r...   \n",
       "902   <a href=\"http://twitter.com/download/iphone\" r...   \n",
       "1068  <a href=\"http://twitter.com/download/iphone\" r...   \n",
       "1120  <a href=\"http://twitter.com/download/iphone\" r...   \n",
       "1165  <a href=\"http://twitter.com/download/iphone\" r...   \n",
       "1202  <a href=\"http://twitter.com/download/iphone\" r...   \n",
       "1228  <a href=\"http://twitter.com/download/iphone\" r...   \n",
       "1254  <a href=\"http://twitter.com/download/iphone\" r...   \n",
       "1274  <a href=\"http://twitter.com/download/iphone\" r...   \n",
       "1351  <a href=\"http://twitter.com/download/iphone\" r...   \n",
       "1433  <a href=\"http://twitter.com/download/iphone\" r...   \n",
       "1634  <a href=\"http://twitter.com/download/iphone\" r...   \n",
       "1635  <a href=\"http://twitter.com/download/iphone\" r...   \n",
       "1662  <a href=\"http://twitter.com/download/iphone\" r...   \n",
       "1779  <a href=\"http://twitter.com/download/iphone\" r...   \n",
       "1843  <a href=\"http://twitter.com/download/iphone\" r...   \n",
       "2335  <a href=\"http://twitter.com/download/iphone\" r...   \n",
       "\n",
       "                                                   text  \\\n",
       "433   The floofs have been released I repeat the flo...   \n",
       "516   Meet Sam. She smiles 24/7 &amp; secretly aspir...   \n",
       "902   Why does this never happen at my front door......   \n",
       "1068  After so many requests, this is Bretagne. She ...   \n",
       "1120  Say hello to this unbelievably well behaved sq...   \n",
       "1165  Happy 4/20 from the squad! 13/10 for all https...   \n",
       "1202  This is Bluebert. He just saw that both #Final...   \n",
       "1228  Happy Saturday here's 9 puppers on a bench. 99...   \n",
       "1254  Here's a brigade of puppers. All look very pre...   \n",
       "1274  From left to right:\\nCletus, Jerome, Alejandro...   \n",
       "1351  Here is a whole flock of puppers.  60/50 I'll ...   \n",
       "1433  Happy Wednesday here's a bucket of pups. 44/40...   \n",
       "1634  Two sneaky puppers were not initially seen, mo...   \n",
       "1635  Someone help the girl is being mugged. Several...   \n",
       "1662  This is Darrel. He just robbed a 7/11 and is i...   \n",
       "1779  IT'S PUPPERGEDDON. Total of 144/120 ...I think...   \n",
       "1843  Here we have an entire platoon of puppers. Tot...   \n",
       "2335  This is an Albanian 3 1/2 legged  Episcopalian...   \n",
       "\n",
       "                                          expanded_urls  rating_numerator  \\\n",
       "433   https://twitter.com/dog_rates/status/820690176...                84   \n",
       "516   https://www.gofundme.com/sams-smile,https://tw...                24   \n",
       "902   https://twitter.com/dog_rates/status/758467244...               165   \n",
       "1068  https://twitter.com/dog_rates/status/740373189...                 9   \n",
       "1120  https://twitter.com/dog_rates/status/731156023...               204   \n",
       "1165  https://twitter.com/dog_rates/status/722974582...                 4   \n",
       "1202  https://twitter.com/dog_rates/status/716439118...                50   \n",
       "1228  https://twitter.com/dog_rates/status/713900603...                99   \n",
       "1254  https://twitter.com/dog_rates/status/710658690...                80   \n",
       "1274  https://twitter.com/dog_rates/status/709198395...                45   \n",
       "1351  https://twitter.com/dog_rates/status/704054845...                60   \n",
       "1433  https://twitter.com/dog_rates/status/697463031...                44   \n",
       "1634  https://twitter.com/dog_rates/status/684225744...               143   \n",
       "1635  https://twitter.com/dog_rates/status/684222868...               121   \n",
       "1662  https://twitter.com/dog_rates/status/682962037...                 7   \n",
       "1779  https://twitter.com/dog_rates/status/677716515...               144   \n",
       "1843  https://twitter.com/dog_rates/status/675853064...                88   \n",
       "2335  https://twitter.com/dog_rates/status/666287406...                 1   \n",
       "\n",
       "      rating_denominator      name doggo floofer pupper puppo  \n",
       "433                   70      None  None    None   None  None  \n",
       "516                    7       Sam  None    None   None  None  \n",
       "902                  150      None  None    None   None  None  \n",
       "1068                  11      None  None    None   None  None  \n",
       "1120                 170      this  None    None   None  None  \n",
       "1165                  20      None  None    None   None  None  \n",
       "1202                  50  Bluebert  None    None   None  None  \n",
       "1228                  90      None  None    None   None  None  \n",
       "1254                  80      None  None    None   None  None  \n",
       "1274                  50      None  None    None   None  None  \n",
       "1351                  50         a  None    None   None  None  \n",
       "1433                  40      None  None    None   None  None  \n",
       "1634                 130      None  None    None   None  None  \n",
       "1635                 110      None  None    None   None  None  \n",
       "1662                  11    Darrel  None    None   None  None  \n",
       "1779                 120      None  None    None   None  None  \n",
       "1843                  80      None  None    None   None  None  \n",
       "2335                   2        an  None    None   None  None  "
      ]
     },
     "execution_count": 32,
     "metadata": {},
     "output_type": "execute_result"
    }
   ],
   "source": [
    "demonstrator_df=archive_df_clean_3[archive_df_clean_3['rating_denominator'] != 10 ]\n",
    "demonstrator_df.to_csv('demonstrator_df.csv',index=False)\n",
    "demonstrator_df"
   ]
  },
  {
   "cell_type": "code",
   "execution_count": 33,
   "metadata": {},
   "outputs": [],
   "source": [
    "archive_df_clean_3=archive_df_clean_3.drop([433,516,902,1068,1120,1165,1202,1228,1254,1274,1274,1351,1433,1635,1662,1779,1843,2335,1634],axis=0)"
   ]
  },
  {
   "cell_type": "code",
   "execution_count": 34,
   "metadata": {},
   "outputs": [],
   "source": [
    "demonstrator_df_modified=pd.read_csv('demonstrator_df_modified.csv')"
   ]
  },
  {
   "cell_type": "code",
   "execution_count": 35,
   "metadata": {},
   "outputs": [
    {
     "name": "stdout",
     "output_type": "stream",
     "text": [
      "<class 'pandas.core.frame.DataFrame'>\n",
      "RangeIndex: 2117 entries, 0 to 2116\n",
      "Data columns (total 12 columns):\n",
      "tweet_id              2117 non-null float64\n",
      "timestamp             2117 non-null object\n",
      "source                2117 non-null object\n",
      "text                  2117 non-null object\n",
      "expanded_urls         2117 non-null object\n",
      "rating_numerator      2104 non-null float64\n",
      "rating_denominator    2104 non-null float64\n",
      "name                  2117 non-null object\n",
      "doggo                 2117 non-null object\n",
      "floofer               2117 non-null object\n",
      "pupper                2117 non-null object\n",
      "puppo                 2117 non-null object\n",
      "dtypes: float64(3), object(9)\n",
      "memory usage: 198.5+ KB\n"
     ]
    }
   ],
   "source": [
    "archive_df_clean_3=pd.concat([archive_df_clean_3,demonstrator_df_modified ],\n",
    "                             ignore_index=True)\n",
    "archive_df_clean_3.info()"
   ]
  },
  {
   "cell_type": "code",
   "execution_count": 36,
   "metadata": {
    "scrolled": false
   },
   "outputs": [
    {
     "data": {
      "text/plain": [
       "10.0    2104\n",
       "Name: rating_denominator, dtype: int64"
      ]
     },
     "execution_count": 36,
     "metadata": {},
     "output_type": "execute_result"
    }
   ],
   "source": [
    "archive_df_clean_3.rating_denominator.value_counts()     "
   ]
  },
  {
   "cell_type": "markdown",
   "metadata": {},
   "source": [
    "#### 2- rating_numerator"
   ]
  },
  {
   "cell_type": "code",
   "execution_count": 37,
   "metadata": {},
   "outputs": [
    {
     "data": {
      "text/plain": [
       "5.0    34\n",
       "3.0    19\n",
       "4.0    15\n",
       "2.0     9\n",
       "1.0     4\n",
       "0.0     2\n",
       "Name: rating_numerator, dtype: int64"
      ]
     },
     "execution_count": 37,
     "metadata": {},
     "output_type": "execute_result"
    }
   ],
   "source": [
    "archive_df_clean_4=archive_df_clean_3[archive_df_clean_3['rating_numerator'] < 6 ]\n",
    "archive_df_clean_4['rating_numerator'].value_counts()\n"
   ]
  },
  {
   "cell_type": "code",
   "execution_count": 38,
   "metadata": {},
   "outputs": [],
   "source": [
    "archive_df_clean_3['rating_numerator']=archive_df_clean_3['rating_numerator'].astype(str)\n",
    "number={75,27,1776,26,420,5,3,4,2,1,0}\n",
    "pattern_1=re.compile('(\\d+\\.?\\d?\\d?)\\/\\d{1,3}')\n",
    "for i in number :\n",
    "    for index ,row in archive_df_clean_3.iterrows() :\n",
    "        try:\n",
    "            if row['rating_numerator'] in number :\n",
    "                num=re.findall(pattern_1, row['text'] )[0]\n",
    "                archive_df_clean_3.loc[index, 'rating_numerator']=archive_df_clean_3.loc[index,'rating_numerator'].replace(i,num )  \n",
    "         \n",
    "        except IndexError :\n",
    "            archive_df_clean_3.loc[index,'rating_numerator']= np.nan"
   ]
  },
  {
   "cell_type": "markdown",
   "metadata": {},
   "source": [
    "#### test"
   ]
  },
  {
   "cell_type": "code",
   "execution_count": 39,
   "metadata": {},
   "outputs": [
    {
     "data": {
      "text/plain": [
       "12.0      489\n",
       "10.0      437\n",
       "11.0      418\n",
       "13.0      296\n",
       "9.0       154\n",
       "8.0        98\n",
       "7.0        51\n",
       "14.0       41\n",
       "5.0        34\n",
       "6.0        32\n",
       "3.0        19\n",
       "4.0        15\n",
       "nan        13\n",
       "2.0         9\n",
       "1.0         4\n",
       "0.0         2\n",
       "75.0        1\n",
       "26.0        1\n",
       "1776.0      1\n",
       "420.0       1\n",
       "27.0        1\n",
       "Name: rating_numerator, dtype: int64"
      ]
     },
     "execution_count": 39,
     "metadata": {},
     "output_type": "execute_result"
    }
   ],
   "source": [
    "archive_df_clean_3['rating_numerator'].value_counts()"
   ]
  },
  {
   "cell_type": "markdown",
   "metadata": {},
   "source": [
    "### remove  tweet without image\n",
    "#### define \n",
    "- get  tweet id not in image_predictions_df by loop \n",
    "- drop all ids not in image_predictions_df\n",
    "#### code"
   ]
  },
  {
   "cell_type": "code",
   "execution_count": 40,
   "metadata": {},
   "outputs": [
    {
     "data": {
      "text/plain": [
       "828"
      ]
     },
     "execution_count": 40,
     "metadata": {},
     "output_type": "execute_result"
    }
   ],
   "source": [
    "ntweet_id=[]\n",
    "list_id1=list(image_predictions_df_clean['tweet_id'])\n",
    "list_id2=list(archive_df_clean_3['tweet_id'])\n",
    "for id in list_id2 :\n",
    "    try:\n",
    "        if id not in list_id1 :\n",
    "            ntweet_id.append(id)\n",
    "    except ValueError :\n",
    "        print('stop')\n",
    "        \n",
    "len(ntweet_id)          \n"
   ]
  },
  {
   "cell_type": "code",
   "execution_count": 41,
   "metadata": {},
   "outputs": [],
   "source": [
    "try:    \n",
    "    for id in ntweet_id : \n",
    "        no_image=archive_df_clean_3[ archive_df_clean_3['tweet_id'] == id ] \n",
    "        archive_df_clean_3 = archive_df_clean_3.drop(no_image.index, axis=0)   \n",
    "except ValueError :\n",
    "    print('stop')  \n",
    "    "
   ]
  },
  {
   "cell_type": "markdown",
   "metadata": {},
   "source": [
    "#### test"
   ]
  },
  {
   "cell_type": "code",
   "execution_count": 42,
   "metadata": {},
   "outputs": [
    {
     "data": {
      "text/plain": [
       "0"
      ]
     },
     "execution_count": 42,
     "metadata": {},
     "output_type": "execute_result"
    }
   ],
   "source": [
    "n2_tweet_id=[]\n",
    "list_id1=list(image_predictions_df_clean['tweet_id'])\n",
    "list_id2=list(archive_df_clean_3['tweet_id'])\n",
    "for id in list_id2 :\n",
    "    try:\n",
    "        if id not in list_id1 :\n",
    "            n2_tweet_id.append(id)\n",
    "    except ValueError :\n",
    "        print('stop')\n",
    "        \n",
    "len(n2_tweet_id)          \n"
   ]
  },
  {
   "cell_type": "markdown",
   "metadata": {},
   "source": [
    "### 5-invalid name in 'name' colums & name column type error .\n",
    "#### define\n",
    " -convert 'name' type\n",
    " -extract name from text column  \n",
    " -remove lower case .\n",
    "#### code\n"
   ]
  },
  {
   "cell_type": "code",
   "execution_count": 43,
   "metadata": {},
   "outputs": [],
   "source": [
    "archive_df_clean_3['name']=archive_df_clean_3['name'].astype(str)\n",
    "pattern = re.compile('(?:name(?:d)?)\\s{1}(?:is\\s)?([A-Za-z]+)')\n",
    "for index ,row in archive_df_clean_3.iterrows() :\n",
    "    try:\n",
    "        if row['name']== \"None\":\n",
    "            new_name=re.findall(pattern, row['text'] )[0]\n",
    "            archive_df_clean_3.loc[index,'name']=archive_df_clean_3.loc[index,'name'].replace(\"None\",new_name)\n",
    "        elif row['name']== \"an\":\n",
    "            new_name=re.findall(pattern, row['text'] )[0]\n",
    "            archive_df_clean_3.loc[index,'name']=archive_df_clean_3.loc[index,'name'].replace(\"an\",new_name)\n",
    "        elif row['name']== \"Bo\":\n",
    "            new_name=re.findall(pattern, row['text'] )[0]\n",
    "            archive_df_clean_3.loc[index,'name']=archive_df_clean_3.loc[index,'name'].replace(\"Bo\",new_name)\n",
    "        elif row['name'][0].islower() == True :\n",
    "            archive_df_clean_3.loc[index,'name']=np.nan \n",
    "        elif row['name'] == \"a\" :\n",
    "            archive_df_clean_3.loc[index,'name']=archive_df_clean_3.loc[index,'name'].replace(\"a\",new_name)    \n",
    "    except IndexError :\n",
    "        archive_df_clean_3.loc[index,'name']=np.nan "
   ]
  },
  {
   "cell_type": "markdown",
   "metadata": {},
   "source": [
    "#### test"
   ]
  },
  {
   "cell_type": "code",
   "execution_count": 44,
   "metadata": {},
   "outputs": [
    {
     "data": {
      "text/plain": [
       "Oliver        8\n",
       "Tucker        7\n",
       "Winston       7\n",
       "Lucy          6\n",
       "Penny         6\n",
       "Cooper        6\n",
       "Lola          5\n",
       "Sadie         5\n",
       "Bailey        5\n",
       "Toby          5\n",
       "Bella         5\n",
       "Sophie        4\n",
       "Dexter        4\n",
       "Clark         4\n",
       "Clarence      4\n",
       "Derek         3\n",
       "Gary          3\n",
       "Riley         3\n",
       "Rusty         3\n",
       "Winnie        3\n",
       "Larry         3\n",
       "Duke          3\n",
       "Stanley       3\n",
       "Jax           3\n",
       "Malcolm       3\n",
       "Hank          3\n",
       "Maggie        3\n",
       "Cassie        3\n",
       "Louis         3\n",
       "Koda          3\n",
       "             ..\n",
       "Betty         1\n",
       "Patch         1\n",
       "Herald        1\n",
       "Geoff         1\n",
       "Stormy        1\n",
       "Lilah         1\n",
       "Nida          1\n",
       "Chaz          1\n",
       "Fizz          1\n",
       "Gòrdón        1\n",
       "Charl         1\n",
       "Tater         1\n",
       "Jo            1\n",
       "Mookie        1\n",
       "Shelby        1\n",
       "Crawford      1\n",
       "Gordon        1\n",
       "Chelsea       1\n",
       "Brandonald    1\n",
       "Sora          1\n",
       "Samson        1\n",
       "Amber         1\n",
       "Brandy        1\n",
       "Dobby         1\n",
       "Carll         1\n",
       "Beckham       1\n",
       "Spanky        1\n",
       "Ollie         1\n",
       "Gerbald       1\n",
       "Eazy          1\n",
       "Name: name, Length: 656, dtype: int64"
      ]
     },
     "execution_count": 44,
     "metadata": {},
     "output_type": "execute_result"
    }
   ],
   "source": [
    "archive_df_clean_3.name.value_counts()"
   ]
  },
  {
   "cell_type": "code",
   "execution_count": 45,
   "metadata": {},
   "outputs": [
    {
     "data": {
      "text/plain": [
       "pandas.core.series.Series"
      ]
     },
     "execution_count": 45,
     "metadata": {},
     "output_type": "execute_result"
    }
   ],
   "source": [
    "type(archive_df_clean_3['name'])"
   ]
  },
  {
   "cell_type": "markdown",
   "metadata": {},
   "source": [
    "### 6- replace \"None\" in stages of dog columns & merge columns .\n",
    "#### define\n",
    "- replace \"None\" with  \" \".\n",
    "- merg columns with melt function .\n",
    "#### code\n"
   ]
  },
  {
   "cell_type": "code",
   "execution_count": 46,
   "metadata": {},
   "outputs": [],
   "source": [
    "#replace \"None\" with \" \".\n",
    "archive_df_clean_3=archive_df_clean_3.replace(\"None\", '', regex=True)"
   ]
  },
  {
   "cell_type": "code",
   "execution_count": 47,
   "metadata": {},
   "outputs": [],
   "source": [
    "# new colum 'dog_stage'\n",
    "archive_df_clean_3['dog_stage'] = archive_df_clean_3['doggo']+archive_df_clean_3['floofer']+archive_df_clean_3['pupper']+archive_df_clean_3['puppo']"
   ]
  },
  {
   "cell_type": "code",
   "execution_count": 48,
   "metadata": {},
   "outputs": [],
   "source": [
    "# remove 'doggo','floofer','pupper','puppo' columns\n",
    "archive_df_clean_3.drop(['doggo','floofer','pupper','puppo'],axis=1,inplace=True)"
   ]
  },
  {
   "cell_type": "code",
   "execution_count": 49,
   "metadata": {},
   "outputs": [
    {
     "data": {
      "text/plain": [
       "                1085\n",
       "pupper           143\n",
       "doggo             34\n",
       "puppo             15\n",
       "doggopupper        6\n",
       "floofer            4\n",
       "doggofloofer       1\n",
       "doggopuppo         1\n",
       "Name: dog_stage, dtype: int64"
      ]
     },
     "execution_count": 49,
     "metadata": {},
     "output_type": "execute_result"
    }
   ],
   "source": [
    "archive_df_clean_3['dog_stage'].value_counts()"
   ]
  },
  {
   "cell_type": "code",
   "execution_count": 50,
   "metadata": {},
   "outputs": [],
   "source": [
    "#repair value in 'dog_stage' column\n",
    "archive_df_clean_3=archive_df_clean_3.replace('doggopupper', 'doggo-pupper', regex=True)\n",
    "archive_df_clean_3=archive_df_clean_3.replace('doggofloofer', 'doggo-floofer', regex=True)\n",
    "archive_df_clean_3=archive_df_clean_3.replace('doggopuppo', 'doggo-puppo', regex=True)\n",
    "archive_df_clean_3=archive_df_clean_3.replace( '', np.NaN, regex=True)"
   ]
  },
  {
   "cell_type": "markdown",
   "metadata": {},
   "source": [
    "### test"
   ]
  },
  {
   "cell_type": "code",
   "execution_count": 51,
   "metadata": {},
   "outputs": [
    {
     "data": {
      "text/plain": [
       "pupper           143\n",
       "doggo             34\n",
       "puppo             15\n",
       "doggo-pupper       6\n",
       "floofer            4\n",
       "doggo-floofer      1\n",
       "doggo-puppo        1\n",
       "Name: dog_stage, dtype: int64"
      ]
     },
     "execution_count": 51,
     "metadata": {},
     "output_type": "execute_result"
    }
   ],
   "source": [
    "archive_df_clean_3['dog_stage'].value_counts()"
   ]
  },
  {
   "cell_type": "markdown",
   "metadata": {},
   "source": [
    "# image_predictions_df"
   ]
  },
  {
   "cell_type": "markdown",
   "metadata": {},
   "source": [
    "#### remove  retweet  from image_predictions_df_clean\n",
    "#### define\n",
    "- get reweet ids that not in archive_df_clean_2\n",
    "- remove this ids from data set\n",
    "#### code\n"
   ]
  },
  {
   "cell_type": "code",
   "execution_count": 52,
   "metadata": {},
   "outputs": [
    {
     "data": {
      "text/plain": [
       "786"
      ]
     },
     "execution_count": 52,
     "metadata": {},
     "output_type": "execute_result"
    }
   ],
   "source": [
    "#get reweet ids that not in archive_df_clean_2\n",
    "n3tweet_id=[]\n",
    "list_id1=list(image_predictions_df_clean['tweet_id'])\n",
    "list_id2=list(archive_df_clean_3['tweet_id'])\n",
    "for id in list_id1 :\n",
    "    try:\n",
    "        if id not in list_id2 :\n",
    "            n3tweet_id.append(id)\n",
    "    except ValueError :\n",
    "        print('stop')\n",
    "        \n",
    "len(n3tweet_id)        \n"
   ]
  },
  {
   "cell_type": "code",
   "execution_count": 53,
   "metadata": {},
   "outputs": [],
   "source": [
    "#remove this ids from data set\n",
    "try:    \n",
    "    for id in n3tweet_id : \n",
    "        retweet=image_predictions_df_clean[image_predictions_df_clean['tweet_id'] == id ] \n",
    "        image_predictions_df_clean = image_predictions_df_clean.drop(retweet.index, axis=0)   \n",
    "except ValueError :\n",
    "    print('stop')  \n",
    "    "
   ]
  },
  {
   "cell_type": "markdown",
   "metadata": {},
   "source": [
    "#### test"
   ]
  },
  {
   "cell_type": "code",
   "execution_count": 54,
   "metadata": {},
   "outputs": [
    {
     "data": {
      "text/plain": [
       "0"
      ]
     },
     "execution_count": 54,
     "metadata": {},
     "output_type": "execute_result"
    }
   ],
   "source": [
    "n4tweet_id=[]\n",
    "list_id1=list(image_predictions_df_clean['tweet_id'])\n",
    "list_id2=list(archive_df_clean_3['tweet_id'])\n",
    "for id in list_id1 :\n",
    "    try:\n",
    "        if id not in list_id2 :\n",
    "            n4tweet_id.append(id)\n",
    "    except ValueError :\n",
    "        print('stop')\n",
    "        \n",
    "len(n4tweet_id)        \n",
    "\n",
    "\n",
    "\n"
   ]
  },
  {
   "cell_type": "markdown",
   "metadata": {},
   "source": [
    "#### merging  p1, p1_conf ,\tp1_dog,\tp2,\tp2_conf,\tp2_dog\t,p3\t,p3_conf\t,p3_dog \n",
    "#### define\n",
    "-  by wide to long method \n",
    "-  change name of columns\n",
    "#### code"
   ]
  },
  {
   "cell_type": "code",
   "execution_count": 55,
   "metadata": {},
   "outputs": [],
   "source": [
    "# Renaming the dataset columns\n",
    "cols = ['tweet_id', 'jpg_url', 'img_num', \n",
    "       'prediction_1', 'confidence_1', 'breed_1',\n",
    "       'prediction_2', 'confidence_2', 'breed_2',\n",
    "       'prediction_3', 'confidence_3', 'breed_3']\n",
    "image_predictions_df_clean.columns = cols\n",
    "# Reshaping the dataframe\n",
    "image_predictions_df_clean_1= pd.wide_to_long(image_predictions_df_clean, stubnames=['prediction', 'confidence', 'breed'], \n",
    "    i=['tweet_id', 'jpg_url', 'img_num'], j='prediction_level', sep=\"_\").reset_index()\n",
    "    "
   ]
  },
  {
   "cell_type": "markdown",
   "metadata": {},
   "source": [
    "#### test"
   ]
  },
  {
   "cell_type": "code",
   "execution_count": 56,
   "metadata": {},
   "outputs": [
    {
     "data": {
      "text/html": [
       "<div>\n",
       "<style scoped>\n",
       "    .dataframe tbody tr th:only-of-type {\n",
       "        vertical-align: middle;\n",
       "    }\n",
       "\n",
       "    .dataframe tbody tr th {\n",
       "        vertical-align: top;\n",
       "    }\n",
       "\n",
       "    .dataframe thead th {\n",
       "        text-align: right;\n",
       "    }\n",
       "</style>\n",
       "<table border=\"1\" class=\"dataframe\">\n",
       "  <thead>\n",
       "    <tr style=\"text-align: right;\">\n",
       "      <th></th>\n",
       "      <th>tweet_id</th>\n",
       "      <th>jpg_url</th>\n",
       "      <th>img_num</th>\n",
       "      <th>prediction_level</th>\n",
       "      <th>prediction</th>\n",
       "      <th>confidence</th>\n",
       "      <th>breed</th>\n",
       "    </tr>\n",
       "  </thead>\n",
       "  <tbody>\n",
       "    <tr>\n",
       "      <th>2849</th>\n",
       "      <td>775364825476165632</td>\n",
       "      <td>https://pbs.twimg.com/media/CsKmMB2WAAAXcAy.jpg</td>\n",
       "      <td>3</td>\n",
       "      <td>3</td>\n",
       "      <td>Pembroke</td>\n",
       "      <td>0.034306</td>\n",
       "      <td>True</td>\n",
       "    </tr>\n",
       "    <tr>\n",
       "      <th>1673</th>\n",
       "      <td>694356675654983680</td>\n",
       "      <td>https://pbs.twimg.com/media/CaLZtmsWQAApbFw.jpg</td>\n",
       "      <td>1</td>\n",
       "      <td>3</td>\n",
       "      <td>pretzel</td>\n",
       "      <td>0.127220</td>\n",
       "      <td>False</td>\n",
       "    </tr>\n",
       "    <tr>\n",
       "      <th>2413</th>\n",
       "      <td>743222593470234624</td>\n",
       "      <td>https://pbs.twimg.com/media/ClB09z0WYAAA1jz.jpg</td>\n",
       "      <td>1</td>\n",
       "      <td>2</td>\n",
       "      <td>soft-coated_wheaten_terrier</td>\n",
       "      <td>0.182782</td>\n",
       "      <td>True</td>\n",
       "    </tr>\n",
       "    <tr>\n",
       "      <th>721</th>\n",
       "      <td>672245253877968896</td>\n",
       "      <td>https://pbs.twimg.com/media/CVRLfeoW4AA_ldZ.jpg</td>\n",
       "      <td>1</td>\n",
       "      <td>2</td>\n",
       "      <td>badger</td>\n",
       "      <td>0.178546</td>\n",
       "      <td>False</td>\n",
       "    </tr>\n",
       "    <tr>\n",
       "      <th>3155</th>\n",
       "      <td>805520635690676224</td>\n",
       "      <td>https://pbs.twimg.com/media/Cy3IvdZXgAUoEaj.jpg</td>\n",
       "      <td>1</td>\n",
       "      <td>3</td>\n",
       "      <td>Border_terrier</td>\n",
       "      <td>0.109345</td>\n",
       "      <td>True</td>\n",
       "    </tr>\n",
       "  </tbody>\n",
       "</table>\n",
       "</div>"
      ],
      "text/plain": [
       "                tweet_id                                          jpg_url  \\\n",
       "2849  775364825476165632  https://pbs.twimg.com/media/CsKmMB2WAAAXcAy.jpg   \n",
       "1673  694356675654983680  https://pbs.twimg.com/media/CaLZtmsWQAApbFw.jpg   \n",
       "2413  743222593470234624  https://pbs.twimg.com/media/ClB09z0WYAAA1jz.jpg   \n",
       "721   672245253877968896  https://pbs.twimg.com/media/CVRLfeoW4AA_ldZ.jpg   \n",
       "3155  805520635690676224  https://pbs.twimg.com/media/Cy3IvdZXgAUoEaj.jpg   \n",
       "\n",
       "      img_num  prediction_level                   prediction  confidence  \\\n",
       "2849        3                 3                     Pembroke    0.034306   \n",
       "1673        1                 3                      pretzel    0.127220   \n",
       "2413        1                 2  soft-coated_wheaten_terrier    0.182782   \n",
       "721         1                 2                       badger    0.178546   \n",
       "3155        1                 3               Border_terrier    0.109345   \n",
       "\n",
       "      breed  \n",
       "2849   True  \n",
       "1673  False  \n",
       "2413   True  \n",
       "721   False  \n",
       "3155   True  "
      ]
     },
     "execution_count": 56,
     "metadata": {},
     "output_type": "execute_result"
    }
   ],
   "source": [
    "image_predictions_df_clean_1.sample(5)"
   ]
  },
  {
   "cell_type": "markdown",
   "metadata": {},
   "source": [
    "## api_df_clean\n",
    "## remove  retweets and no image ids\n",
    "### define  \n",
    "- remove retweets and no image \n",
    "### code "
   ]
  },
  {
   "cell_type": "code",
   "execution_count": 57,
   "metadata": {},
   "outputs": [
    {
     "data": {
      "text/plain": [
       "1065"
      ]
     },
     "execution_count": 57,
     "metadata": {},
     "output_type": "execute_result"
    }
   ],
   "source": [
    "#remove  retweets and no image \n",
    "n4tweet_id=[]\n",
    "list_id1=list(api_df_clean['tweet_id'])\n",
    "list_id2=list(archive_df_clean_3['tweet_id'])\n",
    "for id in list_id1 :\n",
    "    try:\n",
    "        if id not in list_id2 :\n",
    "            n4tweet_id.append(id)\n",
    "    except ValueError :\n",
    "        print('stop')\n",
    "        \n",
    "len(n4tweet_id)        \n"
   ]
  },
  {
   "cell_type": "code",
   "execution_count": 60,
   "metadata": {},
   "outputs": [],
   "source": [
    "try:    \n",
    "    for id in n4tweet_id : \n",
    "        retweet=api_df_clean[api_df_clean['tweet_id'] == id ] \n",
    "        api_df_clean = api_df_clean.drop(retweet.index, axis=0)   \n",
    "except ValueError :\n",
    "    print('stop')  \n",
    "    "
   ]
  },
  {
   "cell_type": "markdown",
   "metadata": {},
   "source": [
    "#### test "
   ]
  },
  {
   "cell_type": "code",
   "execution_count": 61,
   "metadata": {},
   "outputs": [
    {
     "name": "stdout",
     "output_type": "stream",
     "text": [
      "<class 'pandas.core.frame.DataFrame'>\n",
      "Int64Index: 1289 entries, 2 to 2352\n",
      "Data columns (total 4 columns):\n",
      "fav_count        1289 non-null int64\n",
      "retweet_count    1289 non-null int64\n",
      "tweet_id         1289 non-null int64\n",
      "user_count       1289 non-null int64\n",
      "dtypes: int64(4)\n",
      "memory usage: 50.4 KB\n"
     ]
    }
   ],
   "source": [
    "\n",
    "api_df_clean.info()"
   ]
  },
  {
   "cell_type": "markdown",
   "metadata": {},
   "source": [
    "#  merge the three  data  sets \n",
    "### define \n",
    "- use  merg method\n",
    "- save  to  file  twitter_archive_master.csv\n",
    "### code "
   ]
  },
  {
   "cell_type": "code",
   "execution_count": 67,
   "metadata": {},
   "outputs": [],
   "source": [
    "twitter_archive_master = image_predictions_df_clean.merge(archive_df_clean_3, \n",
    "                                                          on='tweet_id', how='left').merge(api_df_clean, on='tweet_id',how='left')"
   ]
  },
  {
   "cell_type": "code",
   "execution_count": 68,
   "metadata": {},
   "outputs": [],
   "source": [
    "twitter_archive_master.to_csv('twitter_archive_master.csv')"
   ]
  },
  {
   "cell_type": "markdown",
   "metadata": {},
   "source": [
    "### test"
   ]
  },
  {
   "cell_type": "code",
   "execution_count": 64,
   "metadata": {},
   "outputs": [
    {
     "name": "stdout",
     "output_type": "stream",
     "text": [
      "<class 'pandas.core.frame.DataFrame'>\n",
      "Int64Index: 1289 entries, 0 to 1288\n",
      "Data columns (total 23 columns):\n",
      "tweet_id              1289 non-null int64\n",
      "jpg_url               1289 non-null object\n",
      "img_num               1289 non-null int64\n",
      "prediction_1          1289 non-null object\n",
      "confidence_1          1289 non-null float64\n",
      "breed_1               1289 non-null bool\n",
      "prediction_2          1289 non-null object\n",
      "confidence_2          1289 non-null float64\n",
      "breed_2               1289 non-null bool\n",
      "prediction_3          1289 non-null object\n",
      "confidence_3          1289 non-null float64\n",
      "breed_3               1289 non-null bool\n",
      "timestamp             1289 non-null datetime64[ns]\n",
      "source                1289 non-null object\n",
      "text                  1289 non-null object\n",
      "expanded_urls         1289 non-null object\n",
      "rating_numerator      1289 non-null object\n",
      "rating_denominator    1289 non-null float64\n",
      "name                  865 non-null object\n",
      "dog_stage             204 non-null object\n",
      "fav_count             1289 non-null int64\n",
      "retweet_count         1289 non-null int64\n",
      "user_count            1289 non-null int64\n",
      "dtypes: bool(3), datetime64[ns](1), float64(4), int64(5), object(10)\n",
      "memory usage: 215.3+ KB\n"
     ]
    }
   ],
   "source": [
    "twitter_archive_master.info()"
   ]
  },
  {
   "cell_type": "code",
   "execution_count": 69,
   "metadata": {},
   "outputs": [
    {
     "data": {
      "text/html": [
       "<div>\n",
       "<style scoped>\n",
       "    .dataframe tbody tr th:only-of-type {\n",
       "        vertical-align: middle;\n",
       "    }\n",
       "\n",
       "    .dataframe tbody tr th {\n",
       "        vertical-align: top;\n",
       "    }\n",
       "\n",
       "    .dataframe thead th {\n",
       "        text-align: right;\n",
       "    }\n",
       "</style>\n",
       "<table border=\"1\" class=\"dataframe\">\n",
       "  <thead>\n",
       "    <tr style=\"text-align: right;\">\n",
       "      <th></th>\n",
       "      <th>tweet_id</th>\n",
       "      <th>jpg_url</th>\n",
       "      <th>img_num</th>\n",
       "      <th>prediction_1</th>\n",
       "      <th>confidence_1</th>\n",
       "      <th>breed_1</th>\n",
       "      <th>prediction_2</th>\n",
       "      <th>confidence_2</th>\n",
       "      <th>breed_2</th>\n",
       "      <th>prediction_3</th>\n",
       "      <th>...</th>\n",
       "      <th>source</th>\n",
       "      <th>text</th>\n",
       "      <th>expanded_urls</th>\n",
       "      <th>rating_numerator</th>\n",
       "      <th>rating_denominator</th>\n",
       "      <th>name</th>\n",
       "      <th>dog_stage</th>\n",
       "      <th>fav_count</th>\n",
       "      <th>retweet_count</th>\n",
       "      <th>user_count</th>\n",
       "    </tr>\n",
       "  </thead>\n",
       "  <tbody>\n",
       "    <tr>\n",
       "      <th>273</th>\n",
       "      <td>673363615379013632</td>\n",
       "      <td>https://pbs.twimg.com/media/CVhEoq4WcAE8pBm.jpg</td>\n",
       "      <td>1</td>\n",
       "      <td>ox</td>\n",
       "      <td>0.193431</td>\n",
       "      <td>False</td>\n",
       "      <td>warthog</td>\n",
       "      <td>0.123827</td>\n",
       "      <td>False</td>\n",
       "      <td>bison</td>\n",
       "      <td>...</td>\n",
       "      <td>&lt;a href=\"http://twitter.com/download/iphone\" r...</td>\n",
       "      <td>This little pupper can't wait for Christmas. H...</td>\n",
       "      <td>https://twitter.com/dog_rates/status/673363615...</td>\n",
       "      <td>11.0</td>\n",
       "      <td>10.0</td>\n",
       "      <td>NaN</td>\n",
       "      <td>pupper</td>\n",
       "      <td>1088</td>\n",
       "      <td>338</td>\n",
       "      <td>3201004</td>\n",
       "    </tr>\n",
       "  </tbody>\n",
       "</table>\n",
       "<p>1 rows × 23 columns</p>\n",
       "</div>"
      ],
      "text/plain": [
       "               tweet_id                                          jpg_url  \\\n",
       "273  673363615379013632  https://pbs.twimg.com/media/CVhEoq4WcAE8pBm.jpg   \n",
       "\n",
       "     img_num prediction_1  confidence_1  breed_1 prediction_2  confidence_2  \\\n",
       "273        1           ox      0.193431    False      warthog      0.123827   \n",
       "\n",
       "     breed_2 prediction_3    ...      \\\n",
       "273    False        bison    ...       \n",
       "\n",
       "                                                source  \\\n",
       "273  <a href=\"http://twitter.com/download/iphone\" r...   \n",
       "\n",
       "                                                  text  \\\n",
       "273  This little pupper can't wait for Christmas. H...   \n",
       "\n",
       "                                         expanded_urls rating_numerator  \\\n",
       "273  https://twitter.com/dog_rates/status/673363615...             11.0   \n",
       "\n",
       "    rating_denominator name dog_stage  fav_count retweet_count user_count  \n",
       "273               10.0  NaN    pupper       1088           338    3201004  \n",
       "\n",
       "[1 rows x 23 columns]"
      ]
     },
     "execution_count": 69,
     "metadata": {},
     "output_type": "execute_result"
    }
   ],
   "source": [
    "twitter_archive_master.sample()"
   ]
  },
  {
   "cell_type": "markdown",
   "metadata": {},
   "source": [
    "# visualization"
   ]
  },
  {
   "cell_type": "markdown",
   "metadata": {},
   "source": [
    "# which dog stage  is  more lovely  to people  ?\n",
    "### puppo and doggo stage   get high favorite count  and retweet "
   ]
  },
  {
   "cell_type": "code",
   "execution_count": 70,
   "metadata": {},
   "outputs": [
    {
     "data": {
      "image/png": "[encoded data removed]",
      "text/plain": [
       "<matplotlib.figure.Figure at 0x7ff7edb3f828>"
      ]
     },
     "metadata": {
      "needs_background": "light"
     },
     "output_type": "display_data"
    },
    {
     "data": {
      "image/png": "[encoded data removed]",
      "text/plain": [
       "<matplotlib.figure.Figure at 0x7ff7edac8a90>"
      ]
     },
     "metadata": {
      "needs_background": "light"
     },
     "output_type": "display_data"
    }
   ],
   "source": [
    "twitter_archive_master.dropna(inplace=True)\n",
    "x=list(twitter_archive_master['dog_stage'])\n",
    "y=list(twitter_archive_master['fav_count'])\n",
    "plt.figure(figsize=(18,5))\n",
    "plt.title('favorite stage',fontsize = 20)\n",
    "plt.xlabel('dog stage' , fontsize = 18)\n",
    "plt.ylabel('favorite count', fontsize = 18)\n",
    "plt.bar(x,y);\n",
    "\n",
    "twitter_archive_master.dropna(inplace=True)\n",
    "x=list(twitter_archive_master['dog_stage'])\n",
    "y=list(twitter_archive_master['retweet_count'])\n",
    "plt.figure(figsize=(18,5))\n",
    "plt.title('favorite stage',fontsize = 20)\n",
    "plt.xlabel('dog stage' , fontsize = 18)\n",
    "plt.ylabel('retweet count', fontsize = 18)\n",
    "plt.bar(x,y);\n",
    "\n"
   ]
  },
  {
   "cell_type": "markdown",
   "metadata": {},
   "source": [
    "#  high  favorite  count   to  which post ?\n"
   ]
  },
  {
   "cell_type": "code",
   "execution_count": 71,
   "metadata": {},
   "outputs": [
    {
     "data": {
      "text/plain": [
       "40325"
      ]
     },
     "execution_count": 71,
     "metadata": {},
     "output_type": "execute_result"
    }
   ],
   "source": [
    "twitter_archive_master.fav_count.max()"
   ]
  },
  {
   "cell_type": "code",
   "execution_count": 72,
   "metadata": {},
   "outputs": [
    {
     "data": {
      "text/html": [
       "<div>\n",
       "<style scoped>\n",
       "    .dataframe tbody tr th:only-of-type {\n",
       "        vertical-align: middle;\n",
       "    }\n",
       "\n",
       "    .dataframe tbody tr th {\n",
       "        vertical-align: top;\n",
       "    }\n",
       "\n",
       "    .dataframe thead th {\n",
       "        text-align: right;\n",
       "    }\n",
       "</style>\n",
       "<table border=\"1\" class=\"dataframe\">\n",
       "  <thead>\n",
       "    <tr style=\"text-align: right;\">\n",
       "      <th></th>\n",
       "      <th>tweet_id</th>\n",
       "      <th>jpg_url</th>\n",
       "      <th>img_num</th>\n",
       "      <th>prediction_1</th>\n",
       "      <th>confidence_1</th>\n",
       "      <th>breed_1</th>\n",
       "      <th>prediction_2</th>\n",
       "      <th>confidence_2</th>\n",
       "      <th>breed_2</th>\n",
       "      <th>prediction_3</th>\n",
       "      <th>...</th>\n",
       "      <th>source</th>\n",
       "      <th>text</th>\n",
       "      <th>expanded_urls</th>\n",
       "      <th>rating_numerator</th>\n",
       "      <th>rating_denominator</th>\n",
       "      <th>name</th>\n",
       "      <th>dog_stage</th>\n",
       "      <th>fav_count</th>\n",
       "      <th>retweet_count</th>\n",
       "      <th>user_count</th>\n",
       "    </tr>\n",
       "  </thead>\n",
       "  <tbody>\n",
       "    <tr>\n",
       "      <th>1122</th>\n",
       "      <td>826848821049180160</td>\n",
       "      <td>https://pbs.twimg.com/media/C3mOnZ_XUAAjr2V.jpg</td>\n",
       "      <td>4</td>\n",
       "      <td>Great_Pyrenees</td>\n",
       "      <td>0.858764</td>\n",
       "      <td>True</td>\n",
       "      <td>golden_retriever</td>\n",
       "      <td>0.023526</td>\n",
       "      <td>True</td>\n",
       "      <td>Pekinese</td>\n",
       "      <td>...</td>\n",
       "      <td>&lt;a href=\"http://twitter.com/download/iphone\" r...</td>\n",
       "      <td>This is Cupid. He was found in the trash. Now ...</td>\n",
       "      <td>https://twitter.com/dog_rates/status/826848821...</td>\n",
       "      <td>13.0</td>\n",
       "      <td>10.0</td>\n",
       "      <td>Cupid</td>\n",
       "      <td>doggo</td>\n",
       "      <td>40325</td>\n",
       "      <td>11878</td>\n",
       "      <td>3200892</td>\n",
       "    </tr>\n",
       "  </tbody>\n",
       "</table>\n",
       "<p>1 rows × 23 columns</p>\n",
       "</div>"
      ],
      "text/plain": [
       "                tweet_id                                          jpg_url  \\\n",
       "1122  826848821049180160  https://pbs.twimg.com/media/C3mOnZ_XUAAjr2V.jpg   \n",
       "\n",
       "      img_num    prediction_1  confidence_1  breed_1      prediction_2  \\\n",
       "1122        4  Great_Pyrenees      0.858764     True  golden_retriever   \n",
       "\n",
       "      confidence_2  breed_2 prediction_3    ...      \\\n",
       "1122      0.023526     True     Pekinese    ...       \n",
       "\n",
       "                                                 source  \\\n",
       "1122  <a href=\"http://twitter.com/download/iphone\" r...   \n",
       "\n",
       "                                                   text  \\\n",
       "1122  This is Cupid. He was found in the trash. Now ...   \n",
       "\n",
       "                                          expanded_urls rating_numerator  \\\n",
       "1122  https://twitter.com/dog_rates/status/826848821...             13.0   \n",
       "\n",
       "     rating_denominator   name dog_stage  fav_count retweet_count user_count  \n",
       "1122               10.0  Cupid     doggo      40325         11878    3200892  \n",
       "\n",
       "[1 rows x 23 columns]"
      ]
     },
     "execution_count": 72,
     "metadata": {},
     "output_type": "execute_result"
    }
   ],
   "source": [
    "twitter_archive_master[twitter_archive_master['fav_count'] == 40325]"
   ]
  },
  {
   "cell_type": "markdown",
   "metadata": {},
   "source": [
    "# high retweet  count post  ?"
   ]
  },
  {
   "cell_type": "code",
   "execution_count": 73,
   "metadata": {},
   "outputs": [
    {
     "data": {
      "text/plain": [
       "11878"
      ]
     },
     "execution_count": 73,
     "metadata": {},
     "output_type": "execute_result"
    }
   ],
   "source": [
    "twitter_archive_master.retweet_count.max()"
   ]
  },
  {
   "cell_type": "code",
   "execution_count": 74,
   "metadata": {},
   "outputs": [
    {
     "data": {
      "text/html": [
       "<div>\n",
       "<style scoped>\n",
       "    .dataframe tbody tr th:only-of-type {\n",
       "        vertical-align: middle;\n",
       "    }\n",
       "\n",
       "    .dataframe tbody tr th {\n",
       "        vertical-align: top;\n",
       "    }\n",
       "\n",
       "    .dataframe thead th {\n",
       "        text-align: right;\n",
       "    }\n",
       "</style>\n",
       "<table border=\"1\" class=\"dataframe\">\n",
       "  <thead>\n",
       "    <tr style=\"text-align: right;\">\n",
       "      <th></th>\n",
       "      <th>tweet_id</th>\n",
       "      <th>jpg_url</th>\n",
       "      <th>img_num</th>\n",
       "      <th>prediction_1</th>\n",
       "      <th>confidence_1</th>\n",
       "      <th>breed_1</th>\n",
       "      <th>prediction_2</th>\n",
       "      <th>confidence_2</th>\n",
       "      <th>breed_2</th>\n",
       "      <th>prediction_3</th>\n",
       "      <th>...</th>\n",
       "      <th>source</th>\n",
       "      <th>text</th>\n",
       "      <th>expanded_urls</th>\n",
       "      <th>rating_numerator</th>\n",
       "      <th>rating_denominator</th>\n",
       "      <th>name</th>\n",
       "      <th>dog_stage</th>\n",
       "      <th>fav_count</th>\n",
       "      <th>retweet_count</th>\n",
       "      <th>user_count</th>\n",
       "    </tr>\n",
       "  </thead>\n",
       "  <tbody>\n",
       "    <tr>\n",
       "      <th>1122</th>\n",
       "      <td>826848821049180160</td>\n",
       "      <td>https://pbs.twimg.com/media/C3mOnZ_XUAAjr2V.jpg</td>\n",
       "      <td>4</td>\n",
       "      <td>Great_Pyrenees</td>\n",
       "      <td>0.858764</td>\n",
       "      <td>True</td>\n",
       "      <td>golden_retriever</td>\n",
       "      <td>0.023526</td>\n",
       "      <td>True</td>\n",
       "      <td>Pekinese</td>\n",
       "      <td>...</td>\n",
       "      <td>&lt;a href=\"http://twitter.com/download/iphone\" r...</td>\n",
       "      <td>This is Cupid. He was found in the trash. Now ...</td>\n",
       "      <td>https://twitter.com/dog_rates/status/826848821...</td>\n",
       "      <td>13.0</td>\n",
       "      <td>10.0</td>\n",
       "      <td>Cupid</td>\n",
       "      <td>doggo</td>\n",
       "      <td>40325</td>\n",
       "      <td>11878</td>\n",
       "      <td>3200892</td>\n",
       "    </tr>\n",
       "  </tbody>\n",
       "</table>\n",
       "<p>1 rows × 23 columns</p>\n",
       "</div>"
      ],
      "text/plain": [
       "                tweet_id                                          jpg_url  \\\n",
       "1122  826848821049180160  https://pbs.twimg.com/media/C3mOnZ_XUAAjr2V.jpg   \n",
       "\n",
       "      img_num    prediction_1  confidence_1  breed_1      prediction_2  \\\n",
       "1122        4  Great_Pyrenees      0.858764     True  golden_retriever   \n",
       "\n",
       "      confidence_2  breed_2 prediction_3    ...      \\\n",
       "1122      0.023526     True     Pekinese    ...       \n",
       "\n",
       "                                                 source  \\\n",
       "1122  <a href=\"http://twitter.com/download/iphone\" r...   \n",
       "\n",
       "                                                   text  \\\n",
       "1122  This is Cupid. He was found in the trash. Now ...   \n",
       "\n",
       "                                          expanded_urls rating_numerator  \\\n",
       "1122  https://twitter.com/dog_rates/status/826848821...             13.0   \n",
       "\n",
       "     rating_denominator   name dog_stage  fav_count retweet_count user_count  \n",
       "1122               10.0  Cupid     doggo      40325         11878    3200892  \n",
       "\n",
       "[1 rows x 23 columns]"
      ]
     },
     "execution_count": 74,
     "metadata": {},
     "output_type": "execute_result"
    }
   ],
   "source": [
    "twitter_archive_master[twitter_archive_master['retweet_count'] == 11878]"
   ]
  },
  {
   "cell_type": "markdown",
   "metadata": {},
   "source": [
    "# relation between  rating and  fav_count"
   ]
  },
  {
   "cell_type": "code",
   "execution_count": 75,
   "metadata": {},
   "outputs": [
    {
     "data": {
      "text/plain": [
       "<matplotlib.axes._subplots.AxesSubplot at 0x7ff7eb8bbbe0>"
      ]
     },
     "execution_count": 75,
     "metadata": {},
     "output_type": "execute_result"
    },
    {
     "data": {
      "image/png": "[encoded data removed]",
      "text/plain": [
       "<matplotlib.figure.Figure at 0x7ff7ed9ff898>"
      ]
     },
     "metadata": {
      "needs_background": "light"
     },
     "output_type": "display_data"
    }
   ],
   "source": [
    "\n",
    "twitter_archive_master.plot(x='rating_numerator',y='retweet_count')"
   ]
  },
  {
   "cell_type": "markdown",
   "metadata": {},
   "source": [
    "### retweet count and favorite count\n"
   ]
  },
  {
   "cell_type": "code",
   "execution_count": 76,
   "metadata": {},
   "outputs": [
    {
     "data": {
      "image/png": "[encoded data removed]",
      "text/plain": [
       "<matplotlib.figure.Figure at 0x7ff7edb31ac8>"
      ]
     },
     "metadata": {
      "needs_background": "light"
     },
     "output_type": "display_data"
    }
   ],
   "source": [
    "twitter_archive_master.plot(x= 'retweet_count'  ,y='fav_count' ,kind= 'scatter');\n"
   ]
  },
  {
   "cell_type": "markdown",
   "metadata": {},
   "source": [
    "## most lovely post "
   ]
  },
  {
   "cell_type": "code",
   "execution_count": 77,
   "metadata": {},
   "outputs": [
    {
     "data": {
      "text/html": [
       "<div>\n",
       "<style scoped>\n",
       "    .dataframe tbody tr th:only-of-type {\n",
       "        vertical-align: middle;\n",
       "    }\n",
       "\n",
       "    .dataframe tbody tr th {\n",
       "        vertical-align: top;\n",
       "    }\n",
       "\n",
       "    .dataframe thead th {\n",
       "        text-align: right;\n",
       "    }\n",
       "</style>\n",
       "<table border=\"1\" class=\"dataframe\">\n",
       "  <thead>\n",
       "    <tr style=\"text-align: right;\">\n",
       "      <th></th>\n",
       "      <th>tweet_id</th>\n",
       "      <th>jpg_url</th>\n",
       "      <th>img_num</th>\n",
       "      <th>prediction_1</th>\n",
       "      <th>confidence_1</th>\n",
       "      <th>breed_1</th>\n",
       "      <th>prediction_2</th>\n",
       "      <th>confidence_2</th>\n",
       "      <th>breed_2</th>\n",
       "      <th>prediction_3</th>\n",
       "      <th>...</th>\n",
       "      <th>source</th>\n",
       "      <th>text</th>\n",
       "      <th>expanded_urls</th>\n",
       "      <th>rating_numerator</th>\n",
       "      <th>rating_denominator</th>\n",
       "      <th>name</th>\n",
       "      <th>dog_stage</th>\n",
       "      <th>fav_count</th>\n",
       "      <th>retweet_count</th>\n",
       "      <th>user_count</th>\n",
       "    </tr>\n",
       "  </thead>\n",
       "  <tbody>\n",
       "    <tr>\n",
       "      <th>793</th>\n",
       "      <td>740676976021798912</td>\n",
       "      <td>https://pbs.twimg.com/media/Ckdpx5KWsAANF6b.jpg</td>\n",
       "      <td>1</td>\n",
       "      <td>wombat</td>\n",
       "      <td>0.462952</td>\n",
       "      <td>False</td>\n",
       "      <td>Norwegian_elkhound</td>\n",
       "      <td>0.275225</td>\n",
       "      <td>True</td>\n",
       "      <td>Siamese_cat</td>\n",
       "      <td>...</td>\n",
       "      <td>&lt;a href=\"http://twitter.com/download/iphone\" r...</td>\n",
       "      <td>Meet Baloo. He's expecting a fast ground ball,...</td>\n",
       "      <td>https://twitter.com/dog_rates/status/740676976...</td>\n",
       "      <td>11.0</td>\n",
       "      <td>10.0</td>\n",
       "      <td>Baloo</td>\n",
       "      <td>pupper</td>\n",
       "      <td>19881</td>\n",
       "      <td>7724</td>\n",
       "      <td>3200851</td>\n",
       "    </tr>\n",
       "    <tr>\n",
       "      <th>942</th>\n",
       "      <td>773547596996571136</td>\n",
       "      <td>https://pbs.twimg.com/media/Crwxb5yWgAAX5P_.jpg</td>\n",
       "      <td>1</td>\n",
       "      <td>Norwegian_elkhound</td>\n",
       "      <td>0.372202</td>\n",
       "      <td>True</td>\n",
       "      <td>Chesapeake_Bay_retriever</td>\n",
       "      <td>0.137187</td>\n",
       "      <td>True</td>\n",
       "      <td>malamute</td>\n",
       "      <td>...</td>\n",
       "      <td>&lt;a href=\"http://twitter.com/download/iphone\" r...</td>\n",
       "      <td>This is Chelsea. She forgot how to dog. 11/10 ...</td>\n",
       "      <td>https://twitter.com/dog_rates/status/773547596...</td>\n",
       "      <td>11.0</td>\n",
       "      <td>10.0</td>\n",
       "      <td>Chelsea</td>\n",
       "      <td>pupper</td>\n",
       "      <td>24553</td>\n",
       "      <td>7126</td>\n",
       "      <td>3200904</td>\n",
       "    </tr>\n",
       "    <tr>\n",
       "      <th>977</th>\n",
       "      <td>782305867769217024</td>\n",
       "      <td>https://pbs.twimg.com/media/CttPBt0WIAAcsDE.jpg</td>\n",
       "      <td>1</td>\n",
       "      <td>briard</td>\n",
       "      <td>0.504427</td>\n",
       "      <td>True</td>\n",
       "      <td>soft-coated_wheaten_terrier</td>\n",
       "      <td>0.390678</td>\n",
       "      <td>True</td>\n",
       "      <td>Lhasa</td>\n",
       "      <td>...</td>\n",
       "      <td>&lt;a href=\"http://twitter.com/download/iphone\" r...</td>\n",
       "      <td>This is Sampson. He just graduated. Ready to b...</td>\n",
       "      <td>https://twitter.com/dog_rates/status/782305867...</td>\n",
       "      <td>12.0</td>\n",
       "      <td>10.0</td>\n",
       "      <td>Sampson</td>\n",
       "      <td>doggo</td>\n",
       "      <td>18630</td>\n",
       "      <td>6470</td>\n",
       "      <td>3200901</td>\n",
       "    </tr>\n",
       "    <tr>\n",
       "      <th>1066</th>\n",
       "      <td>811386762094317568</td>\n",
       "      <td>https://pbs.twimg.com/media/C0Kf9PtWQAEW4sE.jpg</td>\n",
       "      <td>1</td>\n",
       "      <td>Pembroke</td>\n",
       "      <td>0.804177</td>\n",
       "      <td>True</td>\n",
       "      <td>Cardigan</td>\n",
       "      <td>0.189890</td>\n",
       "      <td>True</td>\n",
       "      <td>beagle</td>\n",
       "      <td>...</td>\n",
       "      <td>&lt;a href=\"http://twitter.com/download/iphone\" r...</td>\n",
       "      <td>This is Craig. That's actually a normal sized ...</td>\n",
       "      <td>https://twitter.com/dog_rates/status/811386762...</td>\n",
       "      <td>11.0</td>\n",
       "      <td>10.0</td>\n",
       "      <td>Craig</td>\n",
       "      <td>pupper</td>\n",
       "      <td>23302</td>\n",
       "      <td>7444</td>\n",
       "      <td>3200895</td>\n",
       "    </tr>\n",
       "    <tr>\n",
       "      <th>1122</th>\n",
       "      <td>826848821049180160</td>\n",
       "      <td>https://pbs.twimg.com/media/C3mOnZ_XUAAjr2V.jpg</td>\n",
       "      <td>4</td>\n",
       "      <td>Great_Pyrenees</td>\n",
       "      <td>0.858764</td>\n",
       "      <td>True</td>\n",
       "      <td>golden_retriever</td>\n",
       "      <td>0.023526</td>\n",
       "      <td>True</td>\n",
       "      <td>Pekinese</td>\n",
       "      <td>...</td>\n",
       "      <td>&lt;a href=\"http://twitter.com/download/iphone\" r...</td>\n",
       "      <td>This is Cupid. He was found in the trash. Now ...</td>\n",
       "      <td>https://twitter.com/dog_rates/status/826848821...</td>\n",
       "      <td>13.0</td>\n",
       "      <td>10.0</td>\n",
       "      <td>Cupid</td>\n",
       "      <td>doggo</td>\n",
       "      <td>40325</td>\n",
       "      <td>11878</td>\n",
       "      <td>3200892</td>\n",
       "    </tr>\n",
       "    <tr>\n",
       "      <th>1168</th>\n",
       "      <td>845306882940190720</td>\n",
       "      <td>https://pbs.twimg.com/media/C7siH5DXkAACnDT.jpg</td>\n",
       "      <td>1</td>\n",
       "      <td>Irish_water_spaniel</td>\n",
       "      <td>0.567475</td>\n",
       "      <td>True</td>\n",
       "      <td>Labrador_retriever</td>\n",
       "      <td>0.169496</td>\n",
       "      <td>True</td>\n",
       "      <td>curly-coated_retriever</td>\n",
       "      <td>...</td>\n",
       "      <td>&lt;a href=\"http://twitter.com/download/iphone\" r...</td>\n",
       "      <td>This is Pickles. She's a silly pupper. Thinks ...</td>\n",
       "      <td>https://twitter.com/dog_rates/status/845306882...</td>\n",
       "      <td>12.0</td>\n",
       "      <td>10.0</td>\n",
       "      <td>Pickles</td>\n",
       "      <td>pupper</td>\n",
       "      <td>25225</td>\n",
       "      <td>6039</td>\n",
       "      <td>3200891</td>\n",
       "    </tr>\n",
       "    <tr>\n",
       "      <th>1234</th>\n",
       "      <td>874012996292530176</td>\n",
       "      <td>https://pbs.twimg.com/media/DCEeLxjXsAAvNSM.jpg</td>\n",
       "      <td>2</td>\n",
       "      <td>Cardigan</td>\n",
       "      <td>0.806674</td>\n",
       "      <td>True</td>\n",
       "      <td>Pembroke</td>\n",
       "      <td>0.116622</td>\n",
       "      <td>True</td>\n",
       "      <td>kelpie</td>\n",
       "      <td>...</td>\n",
       "      <td>&lt;a href=\"http://twitter.com/download/iphone\" r...</td>\n",
       "      <td>This is Sebastian. He can't see all the colors...</td>\n",
       "      <td>https://twitter.com/dog_rates/status/874012996...</td>\n",
       "      <td>13.0</td>\n",
       "      <td>10.0</td>\n",
       "      <td>Sebastian</td>\n",
       "      <td>puppo</td>\n",
       "      <td>35501</td>\n",
       "      <td>11007</td>\n",
       "      <td>3200891</td>\n",
       "    </tr>\n",
       "  </tbody>\n",
       "</table>\n",
       "<p>7 rows × 23 columns</p>\n",
       "</div>"
      ],
      "text/plain": [
       "                tweet_id                                          jpg_url  \\\n",
       "793   740676976021798912  https://pbs.twimg.com/media/Ckdpx5KWsAANF6b.jpg   \n",
       "942   773547596996571136  https://pbs.twimg.com/media/Crwxb5yWgAAX5P_.jpg   \n",
       "977   782305867769217024  https://pbs.twimg.com/media/CttPBt0WIAAcsDE.jpg   \n",
       "1066  811386762094317568  https://pbs.twimg.com/media/C0Kf9PtWQAEW4sE.jpg   \n",
       "1122  826848821049180160  https://pbs.twimg.com/media/C3mOnZ_XUAAjr2V.jpg   \n",
       "1168  845306882940190720  https://pbs.twimg.com/media/C7siH5DXkAACnDT.jpg   \n",
       "1234  874012996292530176  https://pbs.twimg.com/media/DCEeLxjXsAAvNSM.jpg   \n",
       "\n",
       "      img_num         prediction_1  confidence_1  breed_1  \\\n",
       "793         1               wombat      0.462952    False   \n",
       "942         1   Norwegian_elkhound      0.372202     True   \n",
       "977         1               briard      0.504427     True   \n",
       "1066        1             Pembroke      0.804177     True   \n",
       "1122        4       Great_Pyrenees      0.858764     True   \n",
       "1168        1  Irish_water_spaniel      0.567475     True   \n",
       "1234        2             Cardigan      0.806674     True   \n",
       "\n",
       "                     prediction_2  confidence_2  breed_2  \\\n",
       "793            Norwegian_elkhound      0.275225     True   \n",
       "942      Chesapeake_Bay_retriever      0.137187     True   \n",
       "977   soft-coated_wheaten_terrier      0.390678     True   \n",
       "1066                     Cardigan      0.189890     True   \n",
       "1122             golden_retriever      0.023526     True   \n",
       "1168           Labrador_retriever      0.169496     True   \n",
       "1234                     Pembroke      0.116622     True   \n",
       "\n",
       "                prediction_3    ...      \\\n",
       "793              Siamese_cat    ...       \n",
       "942                 malamute    ...       \n",
       "977                    Lhasa    ...       \n",
       "1066                  beagle    ...       \n",
       "1122                Pekinese    ...       \n",
       "1168  curly-coated_retriever    ...       \n",
       "1234                  kelpie    ...       \n",
       "\n",
       "                                                 source  \\\n",
       "793   <a href=\"http://twitter.com/download/iphone\" r...   \n",
       "942   <a href=\"http://twitter.com/download/iphone\" r...   \n",
       "977   <a href=\"http://twitter.com/download/iphone\" r...   \n",
       "1066  <a href=\"http://twitter.com/download/iphone\" r...   \n",
       "1122  <a href=\"http://twitter.com/download/iphone\" r...   \n",
       "1168  <a href=\"http://twitter.com/download/iphone\" r...   \n",
       "1234  <a href=\"http://twitter.com/download/iphone\" r...   \n",
       "\n",
       "                                                   text  \\\n",
       "793   Meet Baloo. He's expecting a fast ground ball,...   \n",
       "942   This is Chelsea. She forgot how to dog. 11/10 ...   \n",
       "977   This is Sampson. He just graduated. Ready to b...   \n",
       "1066  This is Craig. That's actually a normal sized ...   \n",
       "1122  This is Cupid. He was found in the trash. Now ...   \n",
       "1168  This is Pickles. She's a silly pupper. Thinks ...   \n",
       "1234  This is Sebastian. He can't see all the colors...   \n",
       "\n",
       "                                          expanded_urls rating_numerator  \\\n",
       "793   https://twitter.com/dog_rates/status/740676976...             11.0   \n",
       "942   https://twitter.com/dog_rates/status/773547596...             11.0   \n",
       "977   https://twitter.com/dog_rates/status/782305867...             12.0   \n",
       "1066  https://twitter.com/dog_rates/status/811386762...             11.0   \n",
       "1122  https://twitter.com/dog_rates/status/826848821...             13.0   \n",
       "1168  https://twitter.com/dog_rates/status/845306882...             12.0   \n",
       "1234  https://twitter.com/dog_rates/status/874012996...             13.0   \n",
       "\n",
       "     rating_denominator       name dog_stage  fav_count retweet_count  \\\n",
       "793                10.0      Baloo    pupper      19881          7724   \n",
       "942                10.0    Chelsea    pupper      24553          7126   \n",
       "977                10.0    Sampson     doggo      18630          6470   \n",
       "1066               10.0      Craig    pupper      23302          7444   \n",
       "1122               10.0      Cupid     doggo      40325         11878   \n",
       "1168               10.0    Pickles    pupper      25225          6039   \n",
       "1234               10.0  Sebastian     puppo      35501         11007   \n",
       "\n",
       "     user_count  \n",
       "793     3200851  \n",
       "942     3200904  \n",
       "977     3200901  \n",
       "1066    3200895  \n",
       "1122    3200892  \n",
       "1168    3200891  \n",
       "1234    3200891  \n",
       "\n",
       "[7 rows x 23 columns]"
      ]
     },
     "execution_count": 77,
     "metadata": {},
     "output_type": "execute_result"
    }
   ],
   "source": [
    "twitter_archive_master[twitter_archive_master['retweet_count'] > 6000 ]"
   ]
  },
  {
   "cell_type": "markdown",
   "metadata": {},
   "source": [
    "### what is the most popular dog type ?\n",
    "### golden_retriever, Labrador_retriever,Chihuahua"
   ]
  },
  {
   "cell_type": "code",
   "execution_count": 78,
   "metadata": {},
   "outputs": [
    {
     "data": {
      "text/plain": [
       "golden_retriever                  177\n",
       "Labrador_retriever                175\n",
       "Chihuahua                         116\n",
       "Pembroke                           96\n",
       "Cardigan                           81\n",
       "Pomeranian                         70\n",
       "cocker_spaniel                     67\n",
       "French_bulldog                     67\n",
       "pug                                64\n",
       "chow                               61\n",
       "toy_poodle                         61\n",
       "Chesapeake_Bay_retriever           55\n",
       "Eskimo_dog                         52\n",
       "Siberian_husky                     48\n",
       "Pekinese                           47\n",
       "kuvasz                             45\n",
       "malamute                           42\n",
       "Staffordshire_bullterrier          41\n",
       "beagle                             40\n",
       "kelpie                             39\n",
       "German_shepherd                    35\n",
       "miniature_poodle                   34\n",
       "Samoyed                            32\n",
       "miniature_pinscher                 32\n",
       "collie                             32\n",
       "Shetland_sheepdog                  31\n",
       "bull_mastiff                       31\n",
       "American_Staffordshire_terrier     31\n",
       "Shih-Tzu                           30\n",
       "Boston_bull                        29\n",
       "                                 ... \n",
       "orangutan                           1\n",
       "bagel                               1\n",
       "zebra                               1\n",
       "axolotl                             1\n",
       "partridge                           1\n",
       "cradle                              1\n",
       "fire_engine                         1\n",
       "basketball                          1\n",
       "desk                                1\n",
       "tripod                              1\n",
       "paddlewheel                         1\n",
       "teapot                              1\n",
       "leafhopper                          1\n",
       "crayfish                            1\n",
       "broccoli                            1\n",
       "tricycle                            1\n",
       "stingray                            1\n",
       "leatherback_turtle                  1\n",
       "tabby                               1\n",
       "theater_curtain                     1\n",
       "prairie_chicken                     1\n",
       "black_swan                          1\n",
       "folding_chair                       1\n",
       "stove                               1\n",
       "buckeye                             1\n",
       "alp                                 1\n",
       "computer_keyboard                   1\n",
       "water_bottle                        1\n",
       "medicine_chest                      1\n",
       "car_wheel                           1\n",
       "Name: prediction, Length: 534, dtype: int64"
      ]
     },
     "execution_count": 78,
     "metadata": {},
     "output_type": "execute_result"
    }
   ],
   "source": [
    "image_predictions_df_clean_1.prediction.value_counts()"
   ]
  },
  {
   "cell_type": "code",
   "execution_count": 79,
   "metadata": {},
   "outputs": [
    {
     "data": {
      "image/png": "[encoded data removed]",
      "text/plain": [
       "<matplotlib.figure.Figure at 0x7ff7eb57eb00>"
      ]
     },
     "metadata": {
      "needs_background": "light"
     },
     "output_type": "display_data"
    }
   ],
   "source": [
    "dog=['golden_retriever','Labrador_retriever','Chihuahua','Pembroke']\n",
    "pred=[177,175,116,96]\n",
    "plt.figure(figsize=(8,8))\n",
    "plt.title('popular dog',fontsize = 20)\n",
    "plt.xlabel('Dog name' , fontsize = 18)\n",
    "plt.ylabel('popular level', fontsize = 18)\n",
    "plt.bar(dog,pred);\n"
   ]
  }
 ],
 "metadata": {
  "kernelspec": {
   "display_name": "Python 3",
   "language": "python",
   "name": "python3"
  },
  "language_info": {
   "codemirror_mode": {
    "name": "ipython",
    "version": 3
   },
   "file_extension": ".py",
   "mimetype": "text/x-python",
   "name": "python",
   "nbconvert_exporter": "python",
   "pygments_lexer": "ipython3",
   "version": "3.6.3"
  }
 },
 "nbformat": 4,
 "nbformat_minor": 2
}
